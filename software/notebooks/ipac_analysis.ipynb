{
 "cells": [
  {
   "cell_type": "code",
   "execution_count": 510,
   "id": "66ae286e-d20c-4a4d-978b-d7bcaceb02ec",
   "metadata": {},
   "outputs": [],
   "source": [
    "import pyrogue.utilities.fileio as fileio\n",
    "import numpy as np\n",
    "import matplotlib.pyplot as plt\n",
    "import os\n",
    "from scipy.stats import norm\n",
    "from scipy.optimize import curve_fit\n",
    "top_level=f'{os.getcwd()}/..'\n",
    "from datetime import datetime\n",
    "import glob\n",
    "import re\n",
    "import time\n",
    "import struct\n",
    "import pandas as pd\n",
    "import seaborn as sns\n",
    "from scipy.fft import fft,fftfreq"
   ]
  },
  {
   "cell_type": "code",
   "execution_count": 2,
   "id": "fb5f3928-3218-4853-bc5a-cf15aa6820d5",
   "metadata": {},
   "outputs": [],
   "source": [
    "def find_dat_file():\n",
    "    file_list=[]\n",
    "    def process_dat_file(dat_file_path):\n",
    "        # ここに.datファイルに対する処理を記述する\n",
    "        #print(\"Processing:\", dat_file_path)\n",
    "        file_list.append(dat_file_path)\n",
    "        \n",
    "    # ディレクトリのパス\n",
    "    directory_path = \"../datfile\"\n",
    "\n",
    "    # 指定した日付\n",
    "    start_time = datetime(2024, 3, 6, 10, 30, 0)\n",
    "    end_time = datetime(2024, 4, 16, 13, 0, 0)\n",
    "\n",
    "    # ディレクトリ内のすべての.datファイルに対して処理を実行\n",
    "    for dat_file in glob.glob(os.path.join(directory_path, \"*.dat\")):\n",
    "        # ファイル名から日付部分を抽出\n",
    "        match = re.search(r'data_(\\d{8})_(\\d{6})\\.dat', dat_file)\n",
    "        if match:\n",
    "            file_datetime = datetime.strptime(match.group(1) + match.group(2), '%Y%m%d%H%M%S')\n",
    "            # 指定した日付以降のファイルのみ処理する\n",
    "            if file_datetime >= start_time and file_datetime <= end_time:\n",
    "                process_dat_file(dat_file)\n",
    "    return file_list\n"
   ]
  },
  {
   "cell_type": "code",
   "execution_count": 4,
   "id": "3f49e2b8-c51d-4a7d-880c-8ad95d6ecf1c",
   "metadata": {},
   "outputs": [],
   "source": [
    "def datfile(filename):\n",
    "    # Waveforms variables to be filled \n",
    "    ampFault = { i : []  for i in range(4) }  \n",
    "    xPosFault = []\n",
    "    yPosFault = []\n",
    "    qBunchFault = []\n",
    "    recordtime = []\n",
    "    \n",
    "    # Open the .dat file\n",
    "    with fileio.FileReader(files='../datfile/'+filename) as fd:\n",
    "        \n",
    "        # Loop through the file data\n",
    "        for header,data in fd.records():\n",
    "    \n",
    "            # Check if there is a 8-byte header in the frame\n",
    "            if (header.flags==0):\n",
    "                hdrOffset = 8\n",
    "                hdr = struct.unpack(\"<d\", data[:8])[0]\n",
    "                timestamp = time.localtime(hdr)\n",
    "                # Define the desired format string (replace with your preferred format)\n",
    "                # Some common format specifiers:\n",
    "                # %Y - Year with century\n",
    "                # %m - Month as a decimal number (01-12)\n",
    "                # %d - Day of the month as a decimal number (01-31)\n",
    "                # %H - Hour in 24-hour format (00-23)\n",
    "                # %M - Minute (00-59)\n",
    "                # %S - Second (00-59)\n",
    "                \n",
    "                formatted_time = time.strftime('%Y-%m-%d_%H-%M-%S', timestamp)\n",
    "                #print( f'CH={header.channel}: Event Timestamp in human-readable format: {formatted_time}' )\n",
    "                if header.channel==24:\n",
    "                    recordtime.append(formatted_time)\n",
    "            \n",
    "            else:\n",
    "                hdrOffset = 0\n",
    "                print( 'No timestamp header detected' )\n",
    "                return 0,0\n",
    "            \n",
    "            # Check for error in frame\n",
    "            if (header.error>0):\n",
    "                # Look at record header data\n",
    "                print(f\"Processing record. Total={fd.totCount}, Current={fd.currCount}\")\n",
    "                print(f\"Record size    = {header.size}\")\n",
    "                print(f\"Record channel = {header.channel}\")\n",
    "                print(f\"Record flags   = {header.flags:#x}\")\n",
    "                print(f\"Record error   = {header.error:#x}\")\n",
    "    \n",
    "            # Check if AMP Fault waveform\n",
    "            elif (header.channel < 16) and (header.channel >= 12):\n",
    "                ampFault[header.channel-12].append(data[hdrOffset:].view(np.int16))\n",
    "    \n",
    "            # Check if AMP Live waveform\n",
    "            elif header.channel == 24:\n",
    "                fpData = data[hdrOffset:].view(np.float32)\n",
    "                fpDataLen = len(fpData)\n",
    "                xPosFault.append(   fpData[0:(fpDataLen*3)+0:3] ) \n",
    "                yPosFault.append(   fpData[1:(fpDataLen*3)+1:3] )\n",
    "                qBunchFault.append( fpData[2:(fpDataLen*3)+2:3] )\n",
    "            \n",
    "            # Else undefined stream index\n",
    "            else:\n",
    "                print( f'UNDEFINED DATA STREAM[{header.channel}]!!!')\n",
    "    return ampFault, recordtime"
   ]
  },
  {
   "cell_type": "markdown",
   "id": "fcd6ed2e-bfa9-4d66-97fb-bcd4d90ca834",
   "metadata": {},
   "source": [
    "# DV"
   ]
  },
  {
   "cell_type": "code",
   "execution_count": 70,
   "id": "a42d47f3-6b14-4de6-a525-7c713e78ce2d",
   "metadata": {},
   "outputs": [],
   "source": [
    "def parse_and_plot(filename):\n",
    "    ampFault, recordtime = datfile(filename)\n",
    "    if recordtime==0:\n",
    "        return\n",
    "    if len(recordtime)==0:\n",
    "        return\n",
    "    #print(len(recordtime))\n",
    "    for num in range(len(recordtime)):\n",
    "        print(f'Selected time : {recordtime[num]}')\n",
    "    \n",
    "        def bunchindex(threshold,waveform):\n",
    "            start=12800\n",
    "            firstbunch=0\n",
    "            for i in range(1,8*5120):\n",
    "                if waveform[start+i-1]<waveform[start+i] and waveform[start+i]>waveform[start+i+1]:\n",
    "                    if waveform[start+i]>threshold:\n",
    "                        firstbunch=start+i\n",
    "                        break\n",
    "            if firstbunch==0:\n",
    "                print(\"invalid data\")\n",
    "                return firstbunch, 0\n",
    "        \n",
    "            bunch_candidate=waveform[firstbunch:firstbunch+5120*8:8]\n",
    "            bunch_index=np.where(bunch_candidate>threshold)[0]\n",
    "        \n",
    "            return firstbunch, bunch_index\n",
    "    \n",
    "        firstbunch, bunch_index=bunchindex(1000,ampFault[0][num])\n",
    "        if firstbunch==0:\n",
    "            print(\"end process\")\n",
    "            continue\n",
    "    \n",
    "        #print(f'Downstream Num of bunch : {len(bunch_index)}')\n",
    "        #print(f'Downstream First bunch index : {firstbunch}')\n",
    "    \n",
    "        if firstbunch>140000:\n",
    "            continue\n",
    "    \n",
    "        start=12800\n",
    "        y_pos=[]\n",
    "        charge=[]\n",
    "        for j in bunch_index:\n",
    "            certain_bunch=[]\n",
    "            certain_bunch_charge=[]\n",
    "            for i in range(12):\n",
    "                sum=ampFault[0][num][firstbunch+j*8+5120*8*i]\n",
    "                delta=ampFault[1][num][firstbunch+j*8+5120*8*i]\n",
    "                yposition=delta/sum*16.58/5+1.6\n",
    "                certain_bunch.append(yposition)\n",
    "                certain_bunch_charge.append(sum)\n",
    "            y_pos.append(np.array(certain_bunch))\n",
    "            charge.append(np.array(certain_bunch_charge))\n",
    "        y_pos=np.array(y_pos)\n",
    "        charge=np.array(charge)\n",
    "    \n",
    "        mean=np.mean(y_pos[:,0:2],axis=1)\n",
    "        y_pos=y_pos-mean[:,np.newaxis]\n",
    "        mean=np.mean(charge[:,0:2],axis=1)\n",
    "        charge=charge/mean[:,np.newaxis]\n",
    "        #print(y_pos)\n",
    "        #print(charge)\n",
    "\n",
    "        if np.std(np.array(y_pos)[:,0])>0.1:\n",
    "            print(\"large std\")\n",
    "            continue\n",
    "        if np.std(np.array(charge)[:,0])>0.005:\n",
    "            print(\"charge large std\")\n",
    "            continue\n",
    "        if np.min(np.concatenate(np.array(charge)))>0.95:\n",
    "            print(\"no charge loss\")\n",
    "            continue\n",
    "        if len(bunch_index)<700:\n",
    "            print(\"the number of bunch is small\")\n",
    "            continue\n",
    "        \n",
    "        #make x axis\n",
    "        bunch_index_12=[]\n",
    "        for i in range(12):\n",
    "            bunch_index_12.append(bunch_index+5120*i)\n",
    "\n",
    "        x_axis=np.concatenate(bunch_index_12)/5120+1\n",
    "            \n",
    "\n",
    "        fig, (ax1, ax2) = plt.subplots(2, 1, sharex=True,figsize=(23,8))\n",
    "        split=np.hsplit(y_pos,y_pos.shape[1])\n",
    "        ax1.set_title(f'{recordtime[num]}')\n",
    "        ax1.scatter(x_axis,np.concatenate(split),color='tomato',s=6)\n",
    "        ax1.set_ylabel(\"Y position (mm)\")\n",
    "        ax1.set_ylim(-0.4,0.4)\n",
    "        ax1.grid()\n",
    "        ax1.text(0.03,0.05,'Downstream Vertical',transform=ax1.transAxes,ha='left',va='bottom',fontsize=20)\n",
    "\n",
    "        split=np.hsplit(charge,charge.shape[1])\n",
    "        ax2.scatter(x_axis,np.concatenate(split).reshape(len(x_axis)),color='royalblue',s=6)\n",
    "        ax2.set_xlabel(\"Turn\")\n",
    "        ax2.set_ylabel(\"Charge\")\n",
    "        ax2.set_ylim(0,1.2)\n",
    "        ax2.grid()\n",
    "        ax2.set_xticks([1,2,3,4,5,6,7,8,9,10,11,12,13],['0','0','1','2','3','4','5','6','7','8','9','10','abort'])\n",
    "        ax2.set_yticks([0,0.2,0.4,0.6,0.8,1])\n",
    "        ax2.set_xlim(3,13)\n",
    "        ax2.text(0.03,0.05,'Downstream Charge',transform=ax2.transAxes,ha='left',va='bottom',fontsize=20)\n",
    "        \n",
    "        plt.subplots_adjust(hspace=.1)\n",
    "        plt.savefig('/home/nomaru/work/ipac_analysis/DV/'+filename[11:-4]+f'_{num}'+'.png',dpi=200,bbox_inches=\"tight\",pad_inches=0.5)\n",
    "        plt.close()\n",
    "    #return np.array(y_pos),np.array(charge)"
   ]
  },
  {
   "cell_type": "code",
   "execution_count": 72,
   "id": "faa08e10-5eff-4656-8e15-30eda3816b2b",
   "metadata": {
    "scrolled": true
   },
   "outputs": [
    {
     "name": "stdout",
     "output_type": "stream",
     "text": [
      "Selected time : 2024-04-14_04-59-21\n",
      "charge large std\n",
      "Selected time : 2024-04-16_10-16-55\n",
      "invalid data\n",
      "end process\n",
      "Selected time : 2024-03-30_22-30-08\n",
      "no charge loss\n",
      "Selected time : 2024-04-16_11-16-40\n",
      "invalid data\n",
      "end process\n",
      "Selected time : 2024-03-06_10-42-16\n",
      "no charge loss\n",
      "Selected time : 2024-03-06_14-25-22\n",
      "invalid data\n",
      "end process\n",
      "Selected time : 2024-03-06_14-33-08\n",
      "the number of bunch is small\n",
      "Selected time : 2024-03-06_14-53-45\n",
      "charge large std\n",
      "Selected time : 2024-03-06_15-00-50\n",
      "the number of bunch is small\n",
      "Selected time : 2024-03-06_15-25-00\n",
      "charge large std\n",
      "Selected time : 2024-03-06_17-40-21\n",
      "charge large std\n",
      "Selected time : 2024-04-06_08-53-24\n",
      "Selected time : 2024-03-30_17-53-53\n",
      "Selected time : 2024-04-14_05-30-31\n",
      "charge large std\n",
      "Selected time : 2024-04-05_18-28-47\n",
      "no charge loss\n",
      "Selected time : 2024-04-11_18-37-25\n",
      "no charge loss\n",
      "Selected time : 2024-03-24_07-09-19\n",
      "no charge loss\n",
      "Selected time : 2024-04-13_03-13-40\n",
      "Selected time : 2024-03-25_07-47-07\n",
      "Selected time : 2024-04-11_22-59-48\n",
      "no charge loss\n",
      "Selected time : 2024-04-16_01-06-14\n",
      "invalid data\n",
      "end process\n",
      "Selected time : 2024-04-08_20-17-25\n",
      "charge large std\n",
      "Selected time : 2024-04-16_10-14-32\n",
      "invalid data\n",
      "end process\n",
      "Selected time : 2024-04-04_12-17-11\n",
      "charge large std\n",
      "Selected time : 2024-03-27_19-03-56\n",
      "charge large std\n",
      "Selected time : 2024-04-13_06-17-15\n",
      "no charge loss\n",
      "Selected time : 2024-04-13_06-20-36\n",
      "invalid data\n",
      "end process\n",
      "Selected time : 2024-03-18_18-05-28\n",
      "charge large std\n",
      "Selected time : 2024-04-12_00-47-22\n",
      "no charge loss\n",
      "Selected time : 2024-04-05_08-56-11\n",
      "large std\n",
      "Selected time : 2024-03-19_21-14-42\n",
      "invalid data\n",
      "end process\n",
      "Selected time : 2024-03-25_02-27-54\n",
      "charge large std\n",
      "Selected time : 2024-04-16_11-41-01\n",
      "invalid data\n",
      "end process\n",
      "Selected time : 2024-04-10_13-31-18\n",
      "invalid data\n",
      "end process\n",
      "Selected time : 2024-03-23_09-14-18\n",
      "Selected time : 2024-04-12_06-14-38\n",
      "no charge loss\n",
      "Selected time : 2024-04-10_02-03-39\n",
      "no charge loss\n",
      "Selected time : 2024-04-15_04-52-33\n",
      "charge large std\n",
      "Selected time : 2024-03-27_18-34-29\n",
      "charge large std\n",
      "Selected time : 2024-04-01_18-00-19\n",
      "no charge loss\n",
      "Selected time : 2024-04-12_00-56-33\n",
      "no charge loss\n",
      "Selected time : 2024-03-23_07-08-24\n",
      "Selected time : 2024-04-12_11-16-22\n",
      "invalid data\n",
      "end process\n",
      "Selected time : 2024-04-13_03-28-56\n",
      "invalid data\n",
      "end process\n",
      "Selected time : 2024-04-16_01-07-07\n",
      "invalid data\n",
      "end process\n",
      "Selected time : 2024-04-05_14-36-26\n",
      "no charge loss\n",
      "Selected time : 2024-03-21_13-14-51\n",
      "invalid data\n",
      "end process\n",
      "Selected time : 2024-04-16_10-22-11\n",
      "invalid data\n",
      "end process\n",
      "Selected time : 2024-04-14_14-16-10\n",
      "invalid data\n",
      "end process\n",
      "Selected time : 2024-03-29_00-20-29\n",
      "Selected time : 2024-03-26_19-00-17\n",
      "invalid data\n",
      "end process\n",
      "Selected time : 2024-04-01_00-15-55\n",
      "no charge loss\n",
      "Selected time : 2024-04-02_23-38-31\n",
      "no charge loss\n",
      "Selected time : 2024-04-12_17-36-45\n",
      "invalid data\n",
      "end process\n",
      "Selected time : 2024-03-22_02-26-29\n",
      "Selected time : 2024-03-19_21-15-39\n",
      "invalid data\n",
      "end process\n",
      "Selected time : 2024-03-30_09-10-44\n",
      "no charge loss\n",
      "Selected time : 2024-04-09_16-54-59\n",
      "no charge loss\n",
      "Selected time : 2024-04-08_21-18-07\n",
      "charge large std\n",
      "Selected time : 2024-04-11_15-41-14\n",
      "invalid data\n",
      "end process\n",
      "Selected time : 2024-03-26_01-02-20\n",
      "no charge loss\n",
      "Selected time : 2024-03-24_11-38-03\n",
      "no charge loss\n",
      "Selected time : 2024-04-02_20-52-47\n",
      "Selected time : 2024-04-01_22-17-04\n",
      "no charge loss\n",
      "Selected time : 2024-04-14_14-11-08\n",
      "charge large std\n",
      "Selected time : 2024-04-06_06-47-55\n",
      "no charge loss\n",
      "Selected time : 2024-04-12_04-23-43\n",
      "no charge loss\n",
      "Selected time : 2024-03-27_08-33-23\n",
      "no charge loss\n",
      "Selected time : 2024-03-23_21-34-00\n",
      "no charge loss\n",
      "Selected time : 2024-03-29_15-42-38\n",
      "no charge loss\n",
      "Selected time : 2024-03-21_11-51-44\n",
      "invalid data\n",
      "end process\n",
      "Selected time : 2024-03-28_17-43-35\n",
      "invalid data\n",
      "end process\n",
      "Selected time : 2024-03-25_11-19-44\n",
      "no charge loss\n",
      "Selected time : 2024-04-03_10-16-07\n",
      "no charge loss\n",
      "Selected time : 2024-03-24_19-48-45\n",
      "invalid data\n",
      "end process\n",
      "Selected time : 2024-04-02_02-25-09\n",
      "no charge loss\n",
      "Selected time : 2024-03-31_05-50-41\n",
      "no charge loss\n",
      "Selected time : 2024-03-21_14-52-55\n",
      "charge large std\n",
      "Selected time : 2024-04-08_19-26-56\n",
      "charge large std\n",
      "Selected time : 2024-03-21_22-18-11\n",
      "no charge loss\n",
      "Selected time : 2024-03-20_07-18-28\n",
      "no charge loss\n",
      "Selected time : 2024-04-01_17-51-42\n",
      "no charge loss\n",
      "Selected time : 2024-04-11_16-30-55\n",
      "invalid data\n",
      "end process\n",
      "Selected time : 2024-04-02_00-12-23\n",
      "no charge loss\n",
      "Selected time : 2024-04-02_11-55-06\n",
      "charge large std\n",
      "Selected time : 2024-04-15_09-03-43\n",
      "no charge loss\n",
      "Selected time : 2024-03-19_23-10-30\n",
      "charge large std\n",
      "Selected time : 2024-04-13_06-03-41\n",
      "invalid data\n",
      "end process\n",
      "Selected time : 2024-04-13_07-04-49\n",
      "no charge loss\n",
      "Selected time : 2024-04-16_11-18-16\n",
      "invalid data\n",
      "end process\n",
      "Selected time : 2024-04-16_10-16-25\n",
      "invalid data\n",
      "end process\n",
      "Selected time : 2024-04-16_11-17-40\n",
      "invalid data\n",
      "end process\n",
      "Selected time : 2024-04-16_11-22-08\n",
      "invalid data\n",
      "end process\n",
      "Selected time : 2024-04-03_20-46-57\n",
      "charge large std\n",
      "Selected time : 2024-03-24_11-53-16\n",
      "invalid data\n",
      "end process\n",
      "Selected time : 2024-03-28_16-53-27\n",
      "no charge loss\n",
      "Selected time : 2024-03-27_04-11-11\n",
      "Selected time : 2024-04-04_06-02-12\n",
      "Selected time : 2024-04-09_19-33-49\n",
      "invalid data\n",
      "end process\n",
      "Selected time : 2024-04-12_06-28-25\n",
      "no charge loss\n",
      "Selected time : 2024-03-21_19-23-52\n",
      "charge large std\n",
      "Selected time : 2024-03-18_15-54-10\n",
      "invalid data\n",
      "end process\n",
      "Selected time : 2024-04-11_18-09-00\n",
      "charge large std\n",
      "Selected time : 2024-04-06_17-03-27\n",
      "no charge loss\n",
      "Selected time : 2024-04-14_07-55-31\n",
      "Selected time : 2024-04-11_16-16-57\n",
      "invalid data\n",
      "end process\n",
      "Selected time : 2024-04-13_03-43-47\n",
      "charge large std\n",
      "Selected time : 2024-03-27_05-30-11\n",
      "no charge loss\n",
      "Selected time : 2024-03-24_23-58-07\n",
      "no charge loss\n",
      "Selected time : 2024-04-05_11-27-26\n",
      "no charge loss\n",
      "Selected time : 2024-04-09_13-38-06\n",
      "no charge loss\n",
      "Selected time : 2024-03-31_04-21-35\n",
      "no charge loss\n",
      "Selected time : 2024-04-05_20-58-54\n",
      "Selected time : 2024-04-13_18-08-29\n",
      "no charge loss\n",
      "Selected time : 2024-04-11_16-15-29\n",
      "invalid data\n",
      "end process\n",
      "Selected time : 2024-04-12_10-55-52\n",
      "invalid data\n",
      "end process\n",
      "Selected time : 2024-03-31_06-29-13\n",
      "no charge loss\n",
      "Selected time : 2024-03-10_14-08-42\n",
      "no charge loss\n",
      "Selected time : 2024-03-11_06-48-23\n",
      "charge large std\n",
      "Selected time : 2024-03-11_09-52-52\n",
      "invalid data\n",
      "end process\n",
      "Selected time : 2024-03-11_18-27-55\n",
      "charge large std\n",
      "Selected time : 2024-03-11_19-23-01\n",
      "charge large std\n",
      "Selected time : 2024-03-12_00-25-04\n",
      "no charge loss\n",
      "Selected time : 2024-03-12_03-52-38\n",
      "no charge loss\n",
      "Selected time : 2024-03-12_08-23-18\n",
      "no charge loss\n",
      "Selected time : 2024-03-12_10-01-41\n",
      "no charge loss\n",
      "Selected time : 2024-03-12_10-47-37\n",
      "no charge loss\n",
      "Selected time : 2024-03-12_12-01-30\n",
      "no charge loss\n",
      "Selected time : 2024-03-12_12-04-43\n",
      "no charge loss\n",
      "Selected time : 2024-03-25_07-00-30\n",
      "no charge loss\n",
      "Selected time : 2024-04-15_04-36-51\n",
      "no charge loss\n",
      "Selected time : 2024-04-11_18-09-46\n",
      "invalid data\n",
      "end process\n",
      "Selected time : 2024-03-25_01-44-58\n",
      "Selected time : 2024-03-18_19-46-56\n",
      "charge large std\n",
      "Selected time : 2024-04-10_03-48-07\n",
      "no charge loss\n",
      "Selected time : 2024-03-29_20-48-53\n",
      "no charge loss\n",
      "Selected time : 2024-03-29_16-38-41\n",
      "no charge loss\n",
      "Selected time : 2024-03-18_14-21-53\n",
      "charge large std\n",
      "Selected time : 2024-04-01_14-43-48\n",
      "charge large std\n",
      "Selected time : 2024-03-27_18-56-47\n",
      "charge large std\n",
      "Selected time : 2024-04-13_23-11-19\n",
      "no charge loss\n",
      "Selected time : 2024-04-10_09-59-44\n",
      "charge large std\n",
      "Selected time : 2024-04-02_14-28-15\n",
      "charge large std\n",
      "Selected time : 2024-04-07_14-04-20\n",
      "no charge loss\n",
      "Selected time : 2024-04-07_08-15-19\n",
      "Selected time : 2024-03-16_05-05-39\n",
      "charge large std\n",
      "Selected time : 2024-03-16_14-02-19\n",
      "charge large std\n",
      "Selected time : 2024-03-16_14-31-35\n",
      "charge large std\n",
      "Selected time : 2024-03-31_09-49-39\n",
      "invalid data\n",
      "end process\n",
      "Selected time : 2024-04-15_17-03-16\n",
      "no charge loss\n",
      "Selected time : 2024-03-31_08-07-04\n",
      "no charge loss\n",
      "Selected time : 2024-03-19_15-31-51\n",
      "charge large std\n",
      "Selected time : 2024-03-22_22-01-28\n",
      "Selected time : 2024-04-14_14-11-38\n",
      "invalid data\n",
      "end process\n",
      "Selected time : 2024-03-29_20-31-13\n",
      "no charge loss\n",
      "Selected time : 2024-03-19_21-18-38\n",
      "invalid data\n",
      "end process\n",
      "Selected time : 2024-04-01_02-21-10\n",
      "charge large std\n",
      "Selected time : 2024-04-11_15-49-14\n",
      "invalid data\n",
      "end process\n",
      "Selected time : 2024-03-26_18-19-54\n",
      "no charge loss\n",
      "Selected time : 2024-03-19_14-00-07\n",
      "Selected time : 2024-04-16_11-14-43\n",
      "invalid data\n",
      "end process\n",
      "Selected time : 2024-04-14_18-00-21\n",
      "no charge loss\n",
      "Selected time : 2024-03-09_12-14-48\n",
      "Selected time : 2024-03-09_12-25-50\n",
      "charge large std\n",
      "Selected time : 2024-03-09_17-31-59\n",
      "Selected time : 2024-03-09_20-45-36\n",
      "no charge loss\n",
      "Selected time : 2024-03-17_05-07-25\n",
      "charge large std\n",
      "Selected time : 2024-03-17_06-17-48\n",
      "charge large std\n",
      "Selected time : 2024-03-17_06-43-16\n",
      "invalid data\n",
      "end process\n",
      "Selected time : 2024-03-17_15-51-37\n",
      "charge large std\n",
      "Selected time : 2024-03-17_23-24-00\n",
      "charge large std\n",
      "Selected time : 2024-04-12_04-03-42\n",
      "no charge loss\n",
      "Selected time : 2024-04-11_15-56-14\n",
      "invalid data\n",
      "end process\n",
      "Selected time : 2024-03-22_03-32-29\n",
      "charge large std\n",
      "Selected time : 2024-04-13_05-54-02\n",
      "no charge loss\n",
      "Selected time : 2024-03-25_12-15-59\n",
      "no charge loss\n",
      "Selected time : 2024-04-11_15-49-29\n",
      "invalid data\n",
      "end process\n",
      "Selected time : 2024-04-01_01-47-22\n",
      "charge large std\n",
      "Selected time : 2024-04-13_06-05-29\n",
      "invalid data\n",
      "end process\n",
      "Selected time : 2024-03-31_11-15-28\n",
      "no charge loss\n",
      "Selected time : 2024-04-10_03-07-39\n",
      "no charge loss\n",
      "Selected time : 2024-04-16_11-32-06\n",
      "invalid data\n",
      "end process\n",
      "Selected time : 2024-04-12_00-19-58\n",
      "Selected time : 2024-03-30_15-39-17\n",
      "no charge loss\n",
      "Selected time : 2024-04-05_15-21-40\n",
      "no charge loss\n",
      "Selected time : 2024-03-23_13-48-29\n",
      "Selected time : 2024-04-11_15-59-40\n",
      "invalid data\n",
      "end process\n",
      "Selected time : 2024-04-01_18-49-09\n",
      "no charge loss\n",
      "Selected time : 2024-04-02_14-39-57\n",
      "invalid data\n",
      "end process\n",
      "Selected time : 2024-03-21_09-08-11\n",
      "no charge loss\n",
      "Selected time : 2024-04-06_00-48-50\n",
      "Selected time : 2024-03-24_08-03-56\n",
      "Selected time : 2024-03-18_18-15-31\n",
      "the number of bunch is small\n",
      "Selected time : 2024-04-08_22-35-51\n",
      "charge large std\n",
      "Selected time : 2024-04-05_19-31-00\n",
      "Selected time : 2024-03-18_19-43-12\n",
      "invalid data\n",
      "end process\n",
      "Selected time : 2024-04-16_11-22-31\n",
      "invalid data\n",
      "end process\n",
      "Selected time : 2024-04-16_11-14-14\n",
      "invalid data\n",
      "end process\n",
      "Selected time : 2024-04-12_10-58-41\n",
      "invalid data\n",
      "end process\n",
      "Selected time : 2024-04-12_23-21-36\n",
      "the number of bunch is small\n",
      "Selected time : 2024-03-28_19-02-28\n",
      "charge large std\n",
      "Selected time : 2024-04-12_20-08-05\n",
      "no charge loss\n",
      "Selected time : 2024-04-11_17-38-23\n",
      "charge large std\n",
      "Selected time : 2024-04-06_16-20-03\n",
      "Selected time : 2024-03-30_06-09-02\n",
      "Selected time : 2024-03-25_03-53-22\n",
      "no charge loss\n",
      "Selected time : 2024-04-15_13-30-43\n",
      "Selected time : 2024-04-16_11-18-45\n",
      "invalid data\n",
      "end process\n",
      "Selected time : 2024-04-08_12-37-44\n",
      "no charge loss\n",
      "Selected time : 2024-04-10_14-22-09\n",
      "invalid data\n",
      "end process\n",
      "Selected time : 2024-04-04_01-59-18\n",
      "no charge loss\n",
      "Selected time : 2024-04-16_10-18-59\n",
      "invalid data\n",
      "end process\n",
      "Selected time : 2024-04-14_04-37-06\n",
      "Selected time : 2024-04-12_09-00-57\n",
      "invalid data\n",
      "end process\n",
      "Selected time : 2024-03-16_16-04-59\n",
      "charge large std\n",
      "Selected time : 2024-03-16_18-12-29\n",
      "charge large std\n",
      "Selected time : 2024-03-28_18-17-27\n",
      "charge large std\n",
      "Selected time : 2024-04-12_17-50-14\n",
      "no charge loss\n",
      "Selected time : 2024-04-03_12-46-05\n",
      "charge large std\n",
      "Selected time : 2024-03-24_20-47-12\n",
      "Selected time : 2024-03-30_14-19-49\n",
      "no charge loss\n",
      "Selected time : 2024-03-22_19-50-49\n",
      "invalid data\n",
      "end process\n",
      "Selected time : 2024-03-21_18-06-08\n",
      "charge large std\n",
      "Selected time : 2024-03-29_07-20-25\n",
      "Selected time : 2024-04-01_17-57-31\n",
      "no charge loss\n",
      "Selected time : 2024-04-12_00-58-31\n",
      "no charge loss\n",
      "Selected time : 2024-04-02_17-25-06\n",
      "no charge loss\n",
      "Selected time : 2024-04-04_17-23-54\n",
      "no charge loss\n",
      "Selected time : 2024-04-12_02-30-12\n",
      "no charge loss\n",
      "Selected time : 2024-03-23_10-16-35\n",
      "Selected time : 2024-04-09_09-45-04\n",
      "no charge loss\n",
      "Selected time : 2024-03-29_09-50-04\n",
      "no charge loss\n",
      "Selected time : 2024-04-13_00-58-26\n",
      "charge large std\n",
      "Selected time : 2024-04-02_05-45-30\n",
      "no charge loss\n",
      "Selected time : 2024-03-26_00-59-48\n",
      "no charge loss\n",
      "Selected time : 2024-04-13_06-07-10\n",
      "invalid data\n",
      "end process\n",
      "Selected time : 2024-04-11_15-46-46\n",
      "invalid data\n",
      "end process\n",
      "Selected time : 2024-03-22_13-31-24\n",
      "charge large std\n",
      "Selected time : 2024-03-31_16-00-50\n",
      "no charge loss\n",
      "Selected time : 2024-04-09_19-31-29\n",
      "charge large std\n",
      "Selected time : 2024-03-31_14-26-07\n",
      "charge large std\n",
      "Selected time : 2024-04-16_11-00-02\n",
      "charge large std\n",
      "Selected time : 2024-04-16_01-06-35\n",
      "invalid data\n",
      "end process\n",
      "Selected time : 2024-04-02_08-35-14\n",
      "no charge loss\n",
      "Selected time : 2024-03-29_04-54-10\n",
      "no charge loss\n",
      "Selected time : 2024-04-03_19-04-11\n",
      "no charge loss\n",
      "Selected time : 2024-04-01_16-37-32\n",
      "no charge loss\n",
      "Selected time : 2024-03-22_06-00-00\n",
      "no charge loss\n",
      "Selected time : 2024-04-11_22-57-27\n",
      "no charge loss\n",
      "Selected time : 2024-04-11_15-40-27\n",
      "no charge loss\n",
      "Selected time : 2024-03-25_18-05-52\n",
      "no charge loss\n",
      "Selected time : 2024-03-23_15-40-07\n",
      "Selected time : 2024-04-12_08-54-44\n",
      "invalid data\n",
      "end process\n",
      "Selected time : 2024-04-16_01-02-25\n",
      "invalid data\n",
      "end process\n",
      "Selected time : 2024-04-03_19-40-38\n",
      "no charge loss\n",
      "Selected time : 2024-04-11_02-33-41\n",
      "charge large std\n",
      "Selected time : 2024-04-16_10-04-47\n",
      "no charge loss\n",
      "Selected time : 2024-04-06_20-23-02\n",
      "no charge loss\n",
      "Selected time : 2024-04-08_18-19-10\n",
      "charge large std\n",
      "Selected time : 2024-04-03_07-49-53\n",
      "charge large std\n",
      "Selected time : 2024-03-23_20-19-53\n",
      "no charge loss\n",
      "Selected time : 2024-03-22_03-52-12\n",
      "Selected time : 2024-03-15_21-12-23\n",
      "invalid data\n",
      "end process\n",
      "Selected time : 2024-03-15_21-27-15\n",
      "invalid data\n",
      "end process\n",
      "Selected time : 2024-03-15_21-29-43\n",
      "invalid data\n",
      "end process\n",
      "Selected time : 2024-03-15_21-31-37\n",
      "invalid data\n",
      "end process\n",
      "Selected time : 2024-03-15_21-32-38\n",
      "invalid data\n",
      "end process\n",
      "Selected time : 2024-03-15_21-34-24\n",
      "invalid data\n",
      "end process\n",
      "Selected time : 2024-03-15_21-59-23\n",
      "invalid data\n",
      "end process\n",
      "Selected time : 2024-03-26_21-33-30\n",
      "invalid data\n",
      "end process\n",
      "Selected time : 2024-03-30_23-47-17\n",
      "no charge loss\n",
      "Selected time : 2024-03-26_21-40-33\n",
      "charge large std\n",
      "Selected time : 2024-03-26_10-07-18\n",
      "no charge loss\n",
      "Selected time : 2024-03-25_14-07-34\n",
      "Selected time : 2024-04-11_18-34-45\n",
      "no charge loss\n",
      "Selected time : 2024-03-31_12-14-34\n",
      "no charge loss\n",
      "Selected time : 2024-03-19_21-16-11\n",
      "invalid data\n",
      "end process\n",
      "Selected time : 2024-04-01_00-28-59\n",
      "charge large std\n",
      "Selected time : 2024-03-20_10-03-37\n",
      "invalid data\n",
      "end process\n",
      "Selected time : 2024-04-02_15-09-29\n",
      "charge large std\n",
      "Selected time : 2024-04-01_02-01-37\n",
      "invalid data\n",
      "end process\n",
      "Selected time : 2024-03-29_19-12-12\n",
      "no charge loss\n",
      "Selected time : 2024-04-12_11-11-20\n",
      "invalid data\n",
      "end process\n",
      "Selected time : 2024-04-05_13-16-23\n",
      "no charge loss\n",
      "Selected time : 2024-03-14_07-01-51\n",
      "charge large std\n",
      "Selected time : 2024-03-14_17-17-43\n",
      "charge large std\n",
      "Selected time : 2024-03-14_18-54-47\n",
      "no charge loss\n",
      "Selected time : 2024-03-14_19-13-05\n",
      "no charge loss\n",
      "Selected time : 2024-03-14_21-10-45\n",
      "charge large std\n",
      "Selected time : 2024-03-14_21-57-34\n",
      "no charge loss\n",
      "Selected time : 2024-03-23_18-26-24\n",
      "Selected time : 2024-04-14_22-06-09\n",
      "Selected time : 2024-04-12_10-18-25\n",
      "charge large std\n",
      "Selected time : 2024-04-09_04-16-19\n",
      "no charge loss\n",
      "Selected time : 2024-04-16_11-32-24\n",
      "invalid data\n",
      "end process\n",
      "Selected time : 2024-03-31_02-52-30\n",
      "no charge loss\n",
      "Selected time : 2024-04-04_05-41-26\n",
      "no charge loss\n",
      "Selected time : 2024-04-01_19-07-27\n",
      "charge large std\n",
      "Selected time : 2024-04-16_01-04-10\n",
      "invalid data\n",
      "end process\n",
      "Selected time : 2024-04-01_05-28-56\n",
      "no charge loss\n",
      "Selected time : 2024-04-13_06-58-35\n",
      "charge large std\n",
      "Selected time : 2024-03-30_13-24-42\n",
      "no charge loss\n",
      "Selected time : 2024-04-12_08-55-09\n",
      "invalid data\n",
      "end process\n",
      "Selected time : 2024-04-12_10-20-21\n",
      "invalid data\n",
      "end process\n",
      "Selected time : 2024-03-19_14-15-33\n",
      "charge large std\n",
      "Selected time : 2024-04-15_07-21-01\n",
      "no charge loss\n",
      "Selected time : 2024-04-16_00-53-49\n",
      "Selected time : 2024-04-13_03-26-15\n",
      "charge large std\n",
      "Selected time : 2024-04-13_23-23-26\n",
      "charge large std\n",
      "Selected time : 2024-03-21_09-34-19\n",
      "charge large std\n",
      "Selected time : 2024-04-16_11-14-27\n",
      "invalid data\n",
      "end process\n",
      "Selected time : 2024-04-16_10-37-29\n",
      "invalid data\n",
      "end process\n",
      "Selected time : 2024-04-16_11-13-41\n",
      "invalid data\n",
      "end process\n",
      "Selected time : 2024-04-12_10-58-15\n",
      "invalid data\n",
      "end process\n",
      "Selected time : 2024-04-09_12-01-11\n",
      "charge large std\n",
      "Selected time : 2024-04-13_13-09-13\n",
      "no charge loss\n",
      "Selected time : 2024-04-09_16-37-36\n",
      "charge large std\n",
      "Selected time : 2024-04-11_22-44-48\n",
      "Selected time : 2024-04-03_04-36-12\n",
      "no charge loss\n",
      "Selected time : 2024-03-30_18-44-31\n",
      "no charge loss\n",
      "Selected time : 2024-04-11_15-28-44\n",
      "charge large std\n",
      "Selected time : 2024-04-16_11-28-28\n",
      "invalid data\n",
      "end process\n",
      "Selected time : 2024-04-01_20-52-21\n",
      "no charge loss\n",
      "Selected time : 2024-03-06_18-24-56\n",
      "charge large std\n",
      "Selected time : 2024-03-06_18-47-49\n",
      "invalid data\n",
      "end process\n",
      "Selected time : 2024-03-06_19-33-53\n",
      "charge large std\n",
      "Selected time : 2024-03-06_21-04-10\n",
      "invalid data\n",
      "end process\n",
      "Selected time : 2024-04-06_22-09-41\n",
      "no charge loss\n",
      "Selected time : 2024-04-05_02-48-50\n",
      "no charge loss\n",
      "Selected time : 2024-04-14_14-00-14\n",
      "Selected time : 2024-04-12_19-02-27\n",
      "Selected time : 2024-04-12_03-53-44\n",
      "no charge loss\n",
      "Selected time : 2024-04-01_11-55-12\n",
      "charge large std\n",
      "Selected time : 2024-04-01_01-28-29\n",
      "no charge loss\n",
      "Selected time : 2024-03-18_07-07-41\n",
      "charge large std\n",
      "Selected time : 2024-03-18_11-57-40\n",
      "no charge loss\n",
      "Selected time : 2024-04-13_06-38-19\n",
      "no charge loss\n",
      "Selected time : 2024-03-26_01-01-01\n",
      "no charge loss\n",
      "Selected time : 2024-04-14_05-33-21\n",
      "invalid data\n",
      "end process\n",
      "Selected time : 2024-04-14_02-47-19\n",
      "no charge loss\n",
      "Selected time : 2024-04-16_01-04-38\n",
      "invalid data\n",
      "end process\n",
      "Selected time : 2024-04-14_21-11-02\n",
      "Selected time : 2024-04-12_08-46-27\n",
      "no charge loss\n",
      "Selected time : 2024-04-01_10-39-55\n",
      "invalid data\n",
      "end process\n",
      "Selected time : 2024-04-16_11-30-10\n",
      "invalid data\n",
      "end process\n",
      "Selected time : 2024-04-09_19-28-33\n",
      "charge large std\n",
      "Selected time : 2024-04-02_14-38-49\n",
      "charge large std\n",
      "Selected time : 2024-04-16_11-13-10\n",
      "invalid data\n",
      "end process\n",
      "Selected time : 2024-04-12_23-08-03\n",
      "Selected time : 2024-04-05_12-39-58\n",
      "Selected time : 2024-04-11_14-47-54\n",
      "Selected time : 2024-04-13_03-59-02\n",
      "charge large std\n",
      "Selected time : 2024-03-15_00-15-00\n",
      "charge large std\n",
      "Selected time : 2024-03-15_16-46-05\n",
      "charge large std\n",
      "Selected time : 2024-03-15_17-09-18\n",
      "charge large std\n",
      "Selected time : 2024-04-12_04-25-02\n",
      "invalid data\n",
      "end process\n",
      "Selected time : 2024-03-29_13-27-41\n",
      "no charge loss\n",
      "Selected time : 2024-04-16_10-18-10\n",
      "invalid data\n",
      "end process\n",
      "Selected time : 2024-04-01_18-01-50\n",
      "invalid data\n",
      "end process\n",
      "Selected time : 2024-04-16_01-05-46\n",
      "invalid data\n",
      "end process\n",
      "Selected time : 2024-04-01_06-50-32\n",
      "no charge loss\n",
      "Selected time : 2024-04-05_23-31-18\n",
      "Selected time : 2024-04-15_04-39-04\n",
      "no charge loss\n",
      "Selected time : 2024-03-28_14-09-18\n",
      "Selected time : 2024-03-18_18-17-25\n",
      "no charge loss\n",
      "Selected time : 2024-03-24_23-00-40\n",
      "no charge loss\n",
      "Selected time : 2024-04-10_14-09-05\n",
      "invalid data\n",
      "end process\n",
      "Selected time : 2024-04-10_14-10-58\n",
      "invalid data\n",
      "end process\n",
      "Selected time : 2024-04-10_14-13-01\n",
      "invalid data\n",
      "end process\n",
      "Selected time : 2024-04-10_14-13-56\n",
      "invalid data\n",
      "end process\n",
      "Selected time : 2024-04-10_14-15-12\n",
      "invalid data\n",
      "end process\n",
      "Selected time : 2024-04-10_14-16-10\n",
      "invalid data\n",
      "end process\n",
      "Selected time : 2024-04-10_14-17-05\n",
      "invalid data\n",
      "end process\n",
      "Selected time : 2024-04-10_14-18-36\n",
      "invalid data\n",
      "end process\n",
      "Selected time : 2024-04-10_14-19-27\n",
      "invalid data\n",
      "end process\n",
      "Selected time : 2024-04-11_16-30-33\n",
      "invalid data\n",
      "end process\n",
      "Selected time : 2024-04-08_19-02-48\n",
      "charge large std\n",
      "Selected time : 2024-03-29_21-39-54\n",
      "no charge loss\n",
      "Selected time : 2024-04-10_11-31-26\n",
      "invalid data\n",
      "end process\n",
      "Selected time : 2024-03-25_02-17-56\n",
      "charge large std\n",
      "Selected time : 2024-03-29_01-22-22\n",
      "no charge loss\n",
      "Selected time : 2024-04-13_00-20-52\n",
      "no charge loss\n",
      "Selected time : 2024-03-23_17-17-45\n",
      "Selected time : 2024-04-09_19-13-26\n",
      "charge large std\n",
      "Selected time : 2024-03-19_15-21-25\n",
      "charge large std\n",
      "Selected time : 2024-04-12_21-59-29\n",
      "charge large std\n",
      "Selected time : 2024-03-10_02-12-00\n",
      "no charge loss\n",
      "Selected time : 2024-03-10_04-01-54\n",
      "Selected time : 2024-03-10_07-22-04\n",
      "charge large std\n",
      "Selected time : 2024-03-10_07-58-35\n",
      "no charge loss\n",
      "Selected time : 2024-04-12_11-14-57\n",
      "invalid data\n",
      "end process\n",
      "Selected time : 2024-04-11_16-31-15\n",
      "invalid data\n",
      "end process\n",
      "Selected time : 2024-03-31_16-23-25\n",
      "Selected time : 2024-03-18_18-05-59\n",
      "charge large std\n",
      "Selected time : 2024-04-11_15-48-45\n",
      "invalid data\n",
      "end process\n",
      "Selected time : 2024-04-13_23-29-06\n",
      "no charge loss\n",
      "Selected time : 2024-04-09_19-23-43\n",
      "charge large std\n",
      "Selected time : 2024-04-01_12-54-31\n",
      "charge large std\n",
      "Selected time : 2024-03-25_00-31-12\n",
      "no charge loss\n",
      "Selected time : 2024-04-02_00-32-47\n",
      "no charge loss\n",
      "Selected time : 2024-04-08_19-55-16\n",
      "charge large std\n",
      "Selected time : 2024-04-01_14-54-20\n",
      "charge large std\n",
      "Selected time : 2024-04-14_14-15-26\n",
      "invalid data\n",
      "end process\n",
      "Selected time : 2024-03-22_20-03-08\n",
      "no charge loss\n",
      "Selected time : 2024-04-08_17-00-19\n",
      "charge large std\n",
      "Selected time : 2024-04-16_10-17-37\n",
      "invalid data\n",
      "end process\n",
      "Selected time : 2024-04-04_03-18-08\n",
      "no charge loss\n",
      "Selected time : 2024-03-25_18-41-17\n",
      "Selected time : 2024-04-04_10-06-42\n",
      "no charge loss\n",
      "Selected time : 2024-03-29_19-00-35\n",
      "no charge loss\n",
      "Selected time : 2024-04-16_11-31-39\n",
      "invalid data\n",
      "end process\n",
      "Selected time : 2024-04-08_12-52-36\n",
      "charge large std\n",
      "Selected time : 2024-04-08_18-38-42\n",
      "charge large std\n",
      "Selected time : 2024-03-27_06-12-46\n",
      "no charge loss\n",
      "Selected time : 2024-04-13_00-48-22\n",
      "no charge loss\n",
      "Selected time : 2024-04-01_23-38-40\n",
      "Selected time : 2024-04-03_01-02-44\n",
      "no charge loss\n",
      "Selected time : 2024-03-25_04-03-45\n",
      "no charge loss\n",
      "Selected time : 2024-04-05_11-04-59\n",
      "no charge loss\n",
      "Selected time : 2024-04-11_15-49-46\n",
      "invalid data\n",
      "end process\n",
      "Selected time : 2024-04-15_03-30-00\n",
      "no charge loss\n",
      "Selected time : 2024-04-02_09-32-28\n",
      "invalid data\n",
      "end process\n",
      "Selected time : 2024-04-11_16-08-43\n",
      "invalid data\n",
      "end process\n",
      "Selected time : 2024-03-31_08-39-11\n",
      "Selected time : 2024-04-10_13-47-15\n",
      "charge large std\n",
      "Selected time : 2024-04-10_13-49-25\n",
      "large std\n",
      "Selected time : 2024-04-10_13-51-20\n",
      "large std\n",
      "Selected time : 2024-04-10_13-52-18\n"
     ]
    },
    {
     "name": "stderr",
     "output_type": "stream",
     "text": [
      "/tmp/ipykernel_38036/415660957.py:59: RuntimeWarning: divide by zero encountered in divide\n",
      "  charge=charge/mean[:,np.newaxis]\n",
      "/home/nomaru/anaconda3/envs/rogue_tag/lib/python3.9/site-packages/numpy/core/_methods.py:173: RuntimeWarning: invalid value encountered in subtract\n",
      "  x = asanyarray(arr - arrmean)\n"
     ]
    },
    {
     "name": "stdout",
     "output_type": "stream",
     "text": [
      "Selected time : 2024-04-10_13-53-53\n",
      "charge large std\n",
      "Selected time : 2024-04-10_13-55-07\n",
      "charge large std\n",
      "Selected time : 2024-04-10_13-57-38\n",
      "charge large std\n",
      "Selected time : 2024-04-10_13-58-35\n",
      "charge large std\n",
      "Selected time : 2024-04-10_13-59-26\n",
      "charge large std\n",
      "Selected time : 2024-04-10_14-00-20\n"
     ]
    },
    {
     "name": "stderr",
     "output_type": "stream",
     "text": [
      "/tmp/ipykernel_38036/415660957.py:59: RuntimeWarning: divide by zero encountered in divide\n",
      "  charge=charge/mean[:,np.newaxis]\n",
      "/home/nomaru/anaconda3/envs/rogue_tag/lib/python3.9/site-packages/numpy/core/_methods.py:173: RuntimeWarning: invalid value encountered in subtract\n",
      "  x = asanyarray(arr - arrmean)\n"
     ]
    },
    {
     "name": "stdout",
     "output_type": "stream",
     "text": [
      "Selected time : 2024-04-10_14-01-26\n",
      "charge large std\n",
      "Selected time : 2024-04-09_05-57-38\n",
      "Selected time : 2024-04-16_11-35-22\n",
      "invalid data\n",
      "end process\n",
      "Selected time : 2024-04-06_18-33-49\n",
      "no charge loss\n",
      "Selected time : 2024-04-01_04-36-13\n",
      "no charge loss\n",
      "Selected time : 2024-04-12_15-05-30\n",
      "charge large std\n",
      "Selected time : 2024-04-16_13-17-46\n",
      "no charge loss\n",
      "Selected time : 2024-03-18_20-43-24\n",
      "charge large std\n",
      "Selected time : 2024-04-12_19-58-16\n",
      "Selected time : 2024-04-16_11-21-14\n",
      "invalid data\n",
      "end process\n",
      "Selected time : 2024-03-25_06-38-26\n",
      "no charge loss\n",
      "Selected time : 2024-04-12_21-48-32\n",
      "Selected time : 2024-04-13_06-25-16\n",
      "invalid data\n",
      "end process\n",
      "Selected time : 2024-04-14_14-15-46\n",
      "invalid data\n",
      "end process\n",
      "Selected time : 2024-04-12_11-07-36\n",
      "invalid data\n",
      "end process\n",
      "Selected time : 2024-04-11_16-32-50\n",
      "invalid data\n",
      "end process\n",
      "Selected time : 2024-04-16_10-37-12\n",
      "invalid data\n",
      "end process\n",
      "Selected time : 2024-04-13_00-44-57\n",
      "charge large std\n",
      "Selected time : 2024-04-12_06-24-35\n",
      "no charge loss\n",
      "Selected time : 2024-03-27_18-49-03\n",
      "charge large std\n",
      "Selected time : 2024-04-05_03-54-17\n",
      "Selected time : 2024-04-16_11-22-48\n",
      "invalid data\n",
      "end process\n",
      "Selected time : 2024-03-31_21-14-20\n",
      "charge large std\n",
      "Selected time : 2024-04-02_21-59-52\n",
      "no charge loss\n",
      "Selected time : 2024-04-13_03-31-28\n",
      "invalid data\n",
      "end process\n",
      "Selected time : 2024-04-11_23-11-58\n",
      "charge large std\n",
      "Selected time : 2024-04-12_20-10-39\n",
      "no charge loss\n",
      "Selected time : 2024-03-08_13-45-43\n",
      "no charge loss\n",
      "Selected time : 2024-03-08_13-46-55\n",
      "no charge loss\n",
      "Selected time : 2024-03-08_15-22-06\n",
      "charge large std\n",
      "Selected time : 2024-03-08_15-30-00\n",
      "charge large std\n",
      "Selected time : 2024-03-08_17-05-08\n",
      "no charge loss\n",
      "Selected time : 2024-03-08_20-08-37\n",
      "charge large std\n",
      "Selected time : 2024-03-08_22-05-09\n",
      "invalid data\n",
      "end process\n",
      "Selected time : 2024-04-16_12-51-38\n",
      "charge large std\n",
      "Selected time : 2024-03-28_05-26-51\n",
      "Selected time : 2024-03-24_21-04-03\n",
      "Selected time : 2024-04-13_20-20-19\n",
      "Selected time : 2024-04-16_11-13-57\n",
      "invalid data\n",
      "end process\n",
      "Selected time : 2024-04-08_18-03-46\n",
      "no charge loss\n",
      "Selected time : 2024-03-18_13-46-47\n",
      "no charge loss\n",
      "Selected time : 2024-04-16_11-32-53\n",
      "invalid data\n",
      "end process\n",
      "Selected time : 2024-04-01_17-52-26\n",
      "no charge loss\n",
      "Selected time : 2024-04-01_17-52-26\n",
      "no charge loss\n",
      "Selected time : 2024-04-12_04-17-27\n",
      "charge large std\n",
      "Selected time : 2024-04-04_12-03-13\n",
      "invalid data\n",
      "end process\n",
      "Selected time : 2024-04-06_10-49-25\n",
      "Selected time : 2024-04-13_22-19-59\n",
      "no charge loss\n",
      "Selected time : 2024-04-08_16-21-55\n",
      "no charge loss\n",
      "Selected time : 2024-03-30_01-06-36\n",
      "no charge loss\n",
      "Selected time : 2024-03-31_22-20-18\n",
      "no charge loss\n",
      "Selected time : 2024-04-12_11-06-48\n",
      "invalid data\n",
      "end process\n",
      "Selected time : 2024-03-24_19-31-30\n",
      "no charge loss\n",
      "Selected time : 2024-04-01_09-48-28\n",
      "Selected time : 2024-04-02_06-43-02\n",
      "Selected time : 2024-03-22_09-56-31\n",
      "no charge loss\n",
      "Selected time : 2024-04-11_23-01-09\n",
      "no charge loss\n",
      "Selected time : 2024-03-22_23-43-15\n",
      "Selected time : 2024-04-14_14-13-35\n",
      "invalid data\n",
      "end process\n",
      "Selected time : 2024-03-13_23-13-10\n",
      "charge large std\n",
      "Selected time : 2024-04-12_10-19-09\n",
      "invalid data\n",
      "end process\n",
      "Selected time : 2024-04-01_07-25-09\n",
      "no charge loss\n",
      "Selected time : 2024-04-16_10-15-35\n",
      "invalid data\n",
      "end process\n",
      "Selected time : 2024-04-16_01-22-04\n",
      "charge large std\n",
      "Selected time : 2024-03-24_16-58-55\n",
      "Selected time : 2024-04-12_23-19-20\n",
      "no charge loss\n",
      "Selected time : 2024-03-25_11-43-47\n",
      "charge large std\n",
      "Selected time : 2024-04-15_04-28-11\n",
      "no charge loss\n",
      "Selected time : 2024-04-02_14-41-46\n",
      "invalid data\n",
      "end process\n",
      "Selected time : 2024-04-02_19-22-09\n",
      "no charge loss\n",
      "Selected time : 2024-04-08_17-23-50\n",
      "no charge loss\n",
      "Selected time : 2024-03-31_20-03-21\n",
      "no charge loss\n",
      "Selected time : 2024-04-01_15-45-03\n",
      "no charge loss\n",
      "Selected time : 2024-03-19_14-27-23\n",
      "charge large std\n",
      "Selected time : 2024-04-12_18-28-44\n",
      "Selected time : 2024-03-31_07-43-29\n",
      "no charge loss\n",
      "Selected time : 2024-03-19_23-47-05\n",
      "charge large std\n",
      "Selected time : 2024-04-09_11-06-42\n",
      "no charge loss\n",
      "Selected time : 2024-03-18_13-51-24\n",
      "charge large std\n",
      "Selected time : 2024-04-13_06-04-12\n",
      "invalid data\n",
      "end process\n",
      "Selected time : 2024-04-16_00-06-06\n",
      "no charge loss\n",
      "Selected time : 2024-03-18_18-21-07\n",
      "the number of bunch is small\n",
      "Selected time : 2024-04-03_20-24-58\n",
      "no charge loss\n",
      "Selected time : 2024-03-31_14-16-37\n",
      "charge large std\n",
      "Selected time : 2024-04-16_11-25-01\n",
      "invalid data\n",
      "end process\n",
      "Selected time : 2024-04-12_11-04-22\n",
      "invalid data\n",
      "end process\n",
      "Selected time : 2024-03-08_02-20-35\n",
      "no charge loss\n",
      "Selected time : 2024-03-08_03-58-25\n",
      "Selected time : 2024-03-31_09-04-45\n",
      "no charge loss\n",
      "Selected time : 2024-03-25_16-23-49\n"
     ]
    }
   ],
   "source": [
    "DV=find_dat_file()\n",
    "for i in DV:\n",
    "    parse_and_plot(i)\n",
    "    "
   ]
  },
  {
   "cell_type": "markdown",
   "id": "3604c680-9806-4447-8465-ff67f68b8edb",
   "metadata": {},
   "source": [
    "# some weired plots are deleted here and move to UV"
   ]
  },
  {
   "cell_type": "code",
   "execution_count": 133,
   "id": "ec87f178-4595-4185-ab1f-6a630058216b",
   "metadata": {},
   "outputs": [],
   "source": [
    "def find_png_file():\n",
    "    file_list=[]\n",
    "    num_list=[]\n",
    "    def process_dat_file(dat_file_path,num):\n",
    "        # ここに.datファイルに対する処理を記述する\n",
    "        #print(\"Processing:\", dat_file_path)\n",
    "        file_list.append(dat_file_path)\n",
    "        num_list.append(num)\n",
    "        \n",
    "    # ディレクトリのパス\n",
    "    directory_path = \"../../../../work/ipac_analysis/DV/\"\n",
    "\n",
    "    # 指定した日付\n",
    "    start_time = datetime(2024, 3, 2, 10, 30, 0)\n",
    "    end_time = datetime(2024, 4, 20, 13, 0, 0)\n",
    "\n",
    "    # ディレクトリ内のすべての.datファイルに対して処理を実行\n",
    "    for dat_file in glob.glob(os.path.join(directory_path, \"*.png\")):\n",
    "        # ファイル名から日付部分を抽出\n",
    "        match = re.search(r'data_(\\d{8})_(\\d{6})_(\\d+)\\.png', dat_file)\n",
    "        if match:\n",
    "            file_datetime = datetime.strptime(match.group(1) + match.group(2), '%Y%m%d%H%M%S')\n",
    "            num=int(match.group(3))\n",
    "            # 指定した日付以降のファイルのみ処理する\n",
    "            if file_datetime >= start_time and file_datetime <= end_time:\n",
    "                process_dat_file(dat_file[34:-6],num)\n",
    "    return file_list, num_list"
   ]
  },
  {
   "cell_type": "code",
   "execution_count": 134,
   "id": "40db2856-4bfb-4be3-a759-3f814b52c67f",
   "metadata": {},
   "outputs": [
    {
     "name": "stdout",
     "output_type": "stream",
     "text": [
      "65\n",
      "65\n",
      "['data_20240323_091420', 'data_20240405_182849', 'data_20240401_221706', 'data_20240413_005829', 'data_20240309_115540', 'data_20240327_190358', 'data_20240405_024853', 'data_20240322_200311', 'data_20240406_104928', 'data_20240402_054532', 'data_20240416_000609', 'data_20240331_160053', 'data_20240307_191034', 'data_20240330_010639', 'data_20240414_024721', 'data_20240412_201042', 'data_20240411_023343', 'data_20240328_052654', 'data_20240328_190230', 'data_20240409_041622', 'data_20240322_234317', 'data_20240411_183727', 'data_20240405_233122', 'data_20240323_171747', 'data_20240324_194847', 'data_20240322_033232', 'data_20240325_180554', 'data_20240411_231200', 'data_20240331_080708', 'data_20240323_070827', 'data_20240414_211104', 'data_20240412_215932', 'data_20240324_204715', 'data_20240321_221813', 'data_20240413_180833', 'data_20240412_190229', 'data_20240402_192213', 'data_20240330_153919', 'data_20240406_085328', 'data_20240414_075533', 'data_20240415_090346', 'data_20240405_112729', 'data_20240325_070032', 'data_20240322_220131', 'data_20240414_053323', 'data_20240326_214035', 'data_20240325_121601', 'data_20240406_220945', 'data_20240412_182846', 'data_20240401_072513', 'data_20240323_154009', 'data_20240414_180023', 'data_20240323_101637', 'data_20240406_064757', 'data_20240323_134831', 'data_20240325_140736', 'data_20240404_054128', 'data_20240412_175016', 'data_20240309_115540', 'data_20240324_070921', 'data_20240329_045412', 'data_20240325_003115', 'data_20240324_115319', 'data_20240405_193102', 'data_20240405_205858']\n"
     ]
    }
   ],
   "source": [
    "DV_filename=find_png_file()[0]\n",
    "DV_file_num=find_png_file()[1]\n",
    "print(len(DV_filename))\n",
    "print(len(DV_file_num))\n",
    "print(DV_filename)"
   ]
  },
  {
   "cell_type": "code",
   "execution_count": 135,
   "id": "e5ea6c5e-8072-4faa-98a4-e2f7a8b8da04",
   "metadata": {},
   "outputs": [],
   "source": [
    "UV_filename=[]\n",
    "UV_file_num=[]\n",
    "for j in range(len(DV_filename)):\n",
    "\n",
    "    # 元の文字列\n",
    "    date_string = DV_filename[j]\n",
    "    \n",
    "    # 年、月、日、時、分、秒の情報を抽出\n",
    "    year = int(date_string[5:9])\n",
    "    month = int(date_string[9:11])\n",
    "    day = int(date_string[11:13])\n",
    "    hour = int(date_string[14:16])\n",
    "    minute = int(date_string[16:18])\n",
    "    second = int(date_string[18:20])\n",
    "    \n",
    "    # 解析した日時を作成\n",
    "    parsed_date = datetime(year, month, day, hour, minute, second)\n",
    "    \n",
    "    # 比較対象の日時を指定\n",
    "    comparison_date = datetime(2024, 4, 2, 19, 22, 0) \n",
    "    \n",
    "    # 解析した日時が比較対象の日時より後の場合にのみ、処理を実行\n",
    "    if parsed_date >= comparison_date:\n",
    "        UV_filename.append(DV_filename[j])\n",
    "        UV_file_num.append(DV_file_num[j])"
   ]
  },
  {
   "cell_type": "code",
   "execution_count": 136,
   "id": "dc64ae18-4466-469f-93a3-747532ed08a7",
   "metadata": {},
   "outputs": [
    {
     "name": "stdout",
     "output_type": "stream",
     "text": [
      "30\n",
      "30\n"
     ]
    }
   ],
   "source": [
    "print(len(UV_filename))\n",
    "print(len(UV_file_num))"
   ]
  },
  {
   "cell_type": "code",
   "execution_count": 137,
   "id": "52c9869d-7cea-47b3-91bd-cdc366643e03",
   "metadata": {},
   "outputs": [
    {
     "data": {
      "text/plain": [
       "'data_20240323_091420'"
      ]
     },
     "execution_count": 137,
     "metadata": {},
     "output_type": "execute_result"
    }
   ],
   "source": [
    "DV_filename[0]"
   ]
  },
  {
   "cell_type": "markdown",
   "id": "218e3a61-4a7e-47c5-bdf7-bc46d0fba70a",
   "metadata": {},
   "source": [
    "# move to analysis"
   ]
  },
  {
   "cell_type": "code",
   "execution_count": 719,
   "id": "a80365ce-2699-415c-aab6-2dd46416a769",
   "metadata": {},
   "outputs": [],
   "source": [
    "def parse_and_plot_2(filename,num):\n",
    "    ampFault, recordtime = datfile(filename+'.dat')\n",
    "    if recordtime==0:\n",
    "        return\n",
    "    if len(recordtime)==0:\n",
    "        return\n",
    "    #print(len(recordtime))\n",
    "    #print(f'Selected time : {recordtime[num]}')\n",
    "\n",
    "    def bunchindex(threshold,waveform):\n",
    "        start=12800\n",
    "        firstbunch=0\n",
    "        for i in range(1,8*5120):\n",
    "            if waveform[start+i-1]<waveform[start+i] and waveform[start+i]>waveform[start+i+1]:\n",
    "                if waveform[start+i]>threshold:\n",
    "                    firstbunch=start+i\n",
    "                    break\n",
    "        if firstbunch==0:\n",
    "            print(\"invalid data\")\n",
    "            return firstbunch, 0\n",
    "    \n",
    "        bunch_candidate=waveform[firstbunch:firstbunch+5120*8:8]\n",
    "        bunch_index=np.where(bunch_candidate>threshold)[0]\n",
    "    \n",
    "        return firstbunch, bunch_index\n",
    "\n",
    "    firstbunch, bunch_index=bunchindex(1000,ampFault[0][num])\n",
    "    if firstbunch==0:\n",
    "        print(\"end process\")\n",
    "        return\n",
    "\n",
    "    #print(f'Downstream Num of bunch : {len(bunch_index)}')\n",
    "    #print(f'Downstream First bunch index : {firstbunch}')\n",
    "\n",
    "    if firstbunch>140000:\n",
    "        return\n",
    "\n",
    "    start=12800\n",
    "    y_pos=[]\n",
    "    charge=[]\n",
    "    for j in bunch_index:\n",
    "        certain_bunch=[]\n",
    "        certain_bunch_charge=[]\n",
    "        for i in range(12):\n",
    "            sum=ampFault[0][num][firstbunch+j*8+5120*8*i]\n",
    "            delta=ampFault[1][num][firstbunch+j*8+5120*8*i]\n",
    "            yposition=delta/sum*16.58/5+1.6\n",
    "            certain_bunch.append(yposition)\n",
    "            certain_bunch_charge.append(sum)\n",
    "        y_pos.append(np.array(certain_bunch))\n",
    "        charge.append(np.array(certain_bunch_charge))\n",
    "    y_pos=np.array(y_pos)\n",
    "    charge=np.array(charge)\n",
    "\n",
    "    mean=np.mean(y_pos[:,0:2],axis=1)\n",
    "    y_pos=y_pos-mean[:,np.newaxis]\n",
    "    mean=np.mean(charge[:,0:2],axis=1)\n",
    "    charge=charge/mean[:,np.newaxis]\n",
    "    #print(y_pos[:,-3:])\n",
    "    #print(charge)\n",
    "    y_first_turn=np.concatenate(y_pos[:,2:5])\n",
    "    y_last_turn=np.concatenate(y_pos[:,-3:])\n",
    "    loss=1-np.min(np.concatenate(charge))\n",
    "\n",
    "    std=np.std(y_last_turn)/np.std(y_first_turn)\n",
    "    minmax=(np.max(y_last_turn)-np.min(y_last_turn))/(np.max(y_first_turn)-np.min(y_first_turn))#\n",
    "    return std, minmax, loss, np.array(y_pos)"
   ]
  },
  {
   "cell_type": "code",
   "execution_count": 720,
   "id": "eee26714-9058-46c0-ab2e-5360c3527b4e",
   "metadata": {},
   "outputs": [],
   "source": [
    "def parse_and_plot_UV(filename,num):\n",
    "    ampFault, recordtime = datfile(filename+'.dat')\n",
    "    if recordtime==0:\n",
    "        return\n",
    "    if len(recordtime)==0:\n",
    "        return\n",
    "    #print(len(recordtime))\n",
    "    #print(f'Selected time : {recordtime[num]}')\n",
    "\n",
    "    def bunchindex(threshold,waveform):\n",
    "        start=12800\n",
    "        firstbunch=0\n",
    "        for i in range(1,8*5120):\n",
    "            if waveform[start+i-1]<waveform[start+i] and waveform[start+i]>waveform[start+i+1]:\n",
    "                if waveform[start+i]>threshold:\n",
    "                    firstbunch=start+i\n",
    "                    break\n",
    "        if firstbunch==0:\n",
    "            print(\"invalid data\")\n",
    "            return firstbunch, 0\n",
    "    \n",
    "        bunch_candidate=waveform[firstbunch:firstbunch+5120*8:8]\n",
    "        bunch_index=np.where(bunch_candidate>threshold)[0]\n",
    "    \n",
    "        return firstbunch, bunch_index\n",
    "\n",
    "    firstbunch, bunch_index=bunchindex(1700,ampFault[2][num])\n",
    "    if firstbunch==0:\n",
    "        print(\"end process\")\n",
    "        return\n",
    "\n",
    "    #print(f'Downstream Num of bunch : {len(bunch_index)}')\n",
    "    #print(f'Downstream First bunch index : {firstbunch}')\n",
    "\n",
    "    if firstbunch>140000:\n",
    "        return\n",
    "\n",
    "    start=12800\n",
    "    y_pos=[]\n",
    "    charge=[]\n",
    "    for j in bunch_index:\n",
    "        certain_bunch=[]\n",
    "        certain_bunch_charge=[]\n",
    "        for i in range(12):\n",
    "            sum=ampFault[2][num][firstbunch+j*8+5120*8*i]\n",
    "            delta=ampFault[3][num][firstbunch+j*8+5120*8*i]\n",
    "            yposition=delta/sum*16.58/5+1.6\n",
    "            certain_bunch.append(yposition)\n",
    "            certain_bunch_charge.append(sum)\n",
    "        y_pos.append(np.array(certain_bunch))\n",
    "        charge.append(np.array(certain_bunch_charge))\n",
    "    y_pos=np.array(y_pos)\n",
    "    charge=np.array(charge)\n",
    "\n",
    "    mean=np.mean(y_pos[:,0:2],axis=1)\n",
    "    y_pos=y_pos-mean[:,np.newaxis]\n",
    "    mean=np.mean(charge[:,0:2],axis=1)\n",
    "    charge=charge/mean[:,np.newaxis]\n",
    "    #print(y_pos[:,-3:])\n",
    "    #print(charge)\n",
    "    y_first_turn=np.concatenate(y_pos[:,2:5])\n",
    "    y_last_turn=np.concatenate(y_pos[:,-3:])\n",
    "    loss=1-np.min(np.concatenate(charge))\n",
    "    std=np.std(y_last_turn)/np.std(y_first_turn)\n",
    "    minmax=(np.max(y_last_turn)-np.min(y_last_turn))/(np.max(y_first_turn)-np.min(y_first_turn))#\n",
    "    return std, minmax, loss, np.array(y_pos)"
   ]
  },
  {
   "cell_type": "code",
   "execution_count": 721,
   "id": "5cfd7ab3-fa9c-4687-b08e-0afd70ed13ac",
   "metadata": {},
   "outputs": [
    {
     "name": "stdout",
     "output_type": "stream",
     "text": [
      "65\n"
     ]
    }
   ],
   "source": [
    "std_DV=[]\n",
    "minmax_DV=[]\n",
    "loss_DV=[]\n",
    "diff_DV=[]\n",
    "print(len(DV_filename))\n",
    "for i in range(len(DV_filename)):\n",
    "    std_DV.append(parse_and_plot_2(DV_filename[i],DV_file_num[i])[0])\n",
    "    minmax_DV.append(parse_and_plot_2(DV_filename[i],DV_file_num[i])[1])\n",
    "    loss_DV.append(parse_and_plot_2(DV_filename[i],DV_file_num[i])[2])\n",
    "    #diff_DV.append(parse_and_plot_2(DV_filename[i],DV_file_num[i])[0]-parse_and_plot_UV(DV_filename[i],DV_file_num[i])[0])"
   ]
  },
  {
   "cell_type": "code",
   "execution_count": 722,
   "id": "34973852-b4d8-4092-908d-0a7311b866ab",
   "metadata": {},
   "outputs": [],
   "source": [
    "data_DV=pd.DataFrame({'std_ratio':std_DV,\"minmax_ratio\":minmax_DV,'loss':loss_DV})"
   ]
  },
  {
   "cell_type": "code",
   "execution_count": 723,
   "id": "11b0f175-55f8-4fcc-b628-f2850088e3d7",
   "metadata": {},
   "outputs": [
    {
     "data": {
      "text/plain": [
       "<Axes: xlabel='std_ratio', ylabel='Count'>"
      ]
     },
     "execution_count": 723,
     "metadata": {},
     "output_type": "execute_result"
    },
    {
     "data": {
      "image/png": "[encoded data removed]",
      "text/plain": [
       "<Figure size 640x480 with 1 Axes>"
      ]
     },
     "metadata": {},
     "output_type": "display_data"
    }
   ],
   "source": [
    "sns.histplot(data_DV[\"std_ratio\"],bins=18)"
   ]
  },
  {
   "cell_type": "code",
   "execution_count": 726,
   "id": "afb7b78b-6c88-4cd1-bf2a-a505d3f045eb",
   "metadata": {},
   "outputs": [
    {
     "data": {
      "text/plain": [
       "<seaborn.axisgrid.JointGrid at 0x7f6aeb2088e0>"
      ]
     },
     "execution_count": 726,
     "metadata": {},
     "output_type": "execute_result"
    },
    {
     "data": {
      "image/png": "[encoded data removed]",
      "text/plain": [
       "<Figure size 600x600 with 3 Axes>"
      ]
     },
     "metadata": {},
     "output_type": "display_data"
    }
   ],
   "source": [
    "sns.jointplot(data=data_DV,x='std_ratio',y='loss')"
   ]
  },
  {
   "cell_type": "code",
   "execution_count": 730,
   "id": "4039dc72-65c1-474e-aeae-4a86c8dc4c37",
   "metadata": {},
   "outputs": [
    {
     "name": "stdout",
     "output_type": "stream",
     "text": [
      "30\n"
     ]
    }
   ],
   "source": [
    "std_DV=[]\n",
    "minmax_DV=[]\n",
    "loss_DV=[]\n",
    "std_UV=[]\n",
    "minmax_UV=[]\n",
    "loss_UV=[]\n",
    "diff_std=[]\n",
    "diff_minmax=[]\n",
    "\n",
    "print(len(UV_filename))\n",
    "for i in range(len(UV_filename)):\n",
    "    name=UV_filename[i]\n",
    "    num=UV_file_num[i]\n",
    "    std_DV.append(parse_and_plot_2(name,num)[0])\n",
    "    minmax_DV.append(parse_and_plot_2(name,num)[1])\n",
    "    loss_DV.append(parse_and_plot_2(name,num)[2])\n",
    "    std_UV.append(parse_and_plot_UV(name,num)[0])\n",
    "    minmax_UV.append(parse_and_plot_UV(name,num)[1])\n",
    "    loss_UV.append(parse_and_plot_UV(name,num)[2])\n",
    "    diff_std.append(parse_and_plot_2(name,num)[0]-parse_and_plot_UV(name,num)[0])\n",
    "    diff_minmax.append(parse_and_plot_2(name,num)[1]-parse_and_plot_UV(name,num)[1])"
   ]
  },
  {
   "cell_type": "code",
   "execution_count": 744,
   "id": "09b8e8e8-3687-4515-acbb-513aedde35c1",
   "metadata": {},
   "outputs": [],
   "source": [
    "hue_array_UV=[\"Upstream\"]*len(loss_UV)\n",
    "hue_array_DV=[\"Downstream\"]*len(loss_DV)\n",
    "df_UV=pd.DataFrame({'std_ratio':std,\"minmax_ratio\":minmax,'loss':loss,'D or U':hue_array})\n",
    "df_DV=pd.DataFrame({'std_ratio':std_DV,\"minmax_ratio\":minmax_DV,'loss':loss_DV,'D or U':hue_array_DV})\n",
    "data=pd.concat([df_UV,df_DV],axis=0)\n",
    "data_diff=pd.DataFrame({\"std_ratio diff\":diff_std, \"minmax_ratio diff\":diff_minmax})"
   ]
  },
  {
   "cell_type": "code",
   "execution_count": 741,
   "id": "5987eb64-d251-46bb-b18b-2ace8279bc82",
   "metadata": {},
   "outputs": [
    {
     "data": {
      "text/plain": [
       "<Axes: xlabel='std_ratio diff', ylabel='Count'>"
      ]
     },
     "execution_count": 741,
     "metadata": {},
     "output_type": "execute_result"
    },
    {
     "data": {
      "image/png": "[encoded data removed]",
      "text/plain": [
       "<Figure size 640x480 with 1 Axes>"
      ]
     },
     "metadata": {},
     "output_type": "display_data"
    }
   ],
   "source": [
    "sns.histplot(data_diff[\"std_ratio diff\"],bins=20)"
   ]
  },
  {
   "cell_type": "code",
   "execution_count": 747,
   "id": "c0e239f7-e737-4bb9-8d9c-7df2f044f4a0",
   "metadata": {},
   "outputs": [
    {
     "data": {
      "text/plain": [
       "<Axes: xlabel='minmax_ratio', ylabel='Count'>"
      ]
     },
     "execution_count": 747,
     "metadata": {},
     "output_type": "execute_result"
    },
    {
     "data": {
      "image/png": "[encoded data removed]",
      "text/plain": [
       "<Figure size 640x480 with 1 Axes>"
      ]
     },
     "metadata": {},
     "output_type": "display_data"
    }
   ],
   "source": [
    "sns.histplot(data,x='minmax_ratio',hue='D or U',bins=50)"
   ]
  },
  {
   "cell_type": "code",
   "execution_count": 764,
   "id": "df9cec2d-8bac-4a43-9bd6-d32eb1da35ea",
   "metadata": {},
   "outputs": [
    {
     "data": {
      "image/png": "[encoded data removed]",
      "text/plain": [
       "<Figure size 500x500 with 1 Axes>"
      ]
     },
     "metadata": {},
     "output_type": "display_data"
    }
   ],
   "source": [
    "sns.set()\n",
    "plt.figure(figsize=(5,5))\n",
    "sns.scatterplot(x=data.loc[data['D or U']=='Downstream','minmax_ratio'],y=data.loc[data['D or U']=='Upstream','minmax_ratio'])\n",
    "plt.xlabel(\"minmax_ratio of Downstream\")\n",
    "plt.ylabel(\"minmax_ratio of Upstream\")\n",
    "plt.xlim(0.8,6)\n",
    "plt.ylim(0.8,6)\n",
    "plt.show()"
   ]
  },
  {
   "cell_type": "code",
   "execution_count": 636,
   "id": "c7c3f52d-8394-47e5-bff0-e4483950951c",
   "metadata": {},
   "outputs": [
    {
     "data": {
      "text/plain": [
       "'data_20240406_085328'"
      ]
     },
     "execution_count": 636,
     "metadata": {},
     "output_type": "execute_result"
    }
   ],
   "source": [
    "UV_filename[17]"
   ]
  },
  {
   "cell_type": "markdown",
   "id": "54f23b00-8b17-48bd-9fe0-0c4131b4fb0f",
   "metadata": {},
   "source": [
    "# FFT"
   ]
  },
  {
   "cell_type": "code",
   "execution_count": 695,
   "id": "2a1fd481-8170-47c1-a785-24c1e4046a71",
   "metadata": {
    "scrolled": true
   },
   "outputs": [
    {
     "name": "stdout",
     "output_type": "stream",
     "text": [
      "data_20240323_091420\n",
      "data_20240405_182849\n",
      "data_20240401_221706\n",
      "data_20240413_005829\n",
      "data_20240309_115540\n",
      "data_20240327_190358\n",
      "data_20240405_024853\n",
      "data_20240322_200311\n",
      "data_20240406_104928\n",
      "data_20240402_054532\n",
      "data_20240416_000609\n",
      "data_20240331_160053\n",
      "data_20240307_191034\n",
      "data_20240330_010639\n",
      "data_20240414_024721\n",
      "data_20240412_201042\n",
      "data_20240411_023343\n",
      "data_20240328_052654\n",
      "data_20240328_190230\n",
      "data_20240409_041622\n",
      "data_20240322_234317\n",
      "data_20240411_183727\n",
      "data_20240405_233122\n",
      "data_20240323_171747\n",
      "data_20240324_194847\n",
      "data_20240322_033232\n",
      "data_20240325_180554\n",
      "data_20240411_231200\n",
      "data_20240331_080708\n",
      "data_20240323_070827\n",
      "data_20240414_211104\n",
      "data_20240412_215932\n",
      "data_20240324_204715\n",
      "data_20240321_221813\n",
      "data_20240413_180833\n",
      "data_20240412_190229\n",
      "data_20240402_192213\n",
      "data_20240330_153919\n",
      "data_20240406_085328\n",
      "data_20240414_075533\n",
      "data_20240415_090346\n",
      "data_20240405_112729\n",
      "data_20240325_070032\n",
      "data_20240322_220131\n",
      "data_20240414_053323\n",
      "data_20240326_214035\n",
      "data_20240325_121601\n",
      "data_20240406_220945\n",
      "data_20240412_182846\n",
      "data_20240401_072513\n",
      "data_20240323_154009\n",
      "data_20240414_180023\n",
      "data_20240323_101637\n",
      "data_20240406_064757\n",
      "data_20240323_134831\n",
      "data_20240325_140736\n",
      "data_20240404_054128\n",
      "data_20240412_175016\n",
      "data_20240309_115540\n",
      "data_20240324_070921\n",
      "data_20240329_045412\n",
      "data_20240325_003115\n",
      "data_20240324_115319\n",
      "data_20240405_193102\n",
      "data_20240405_205858\n",
      "data_20240405_182849\n",
      "data_20240413_005829\n",
      "data_20240405_024853\n",
      "data_20240406_104928\n",
      "data_20240416_000609\n",
      "data_20240414_024721\n",
      "data_20240412_201042\n",
      "data_20240411_023343\n",
      "data_20240409_041622\n",
      "data_20240411_183727\n",
      "data_20240405_233122\n",
      "data_20240411_231200\n",
      "data_20240414_211104\n",
      "data_20240412_215932\n",
      "data_20240413_180833\n",
      "data_20240412_190229\n",
      "data_20240402_192213\n",
      "data_20240406_085328\n",
      "data_20240414_075533\n",
      "data_20240415_090346\n",
      "data_20240405_112729\n",
      "data_20240414_053323\n",
      "data_20240406_220945\n",
      "data_20240412_182846\n",
      "data_20240414_180023\n",
      "data_20240406_064757\n",
      "data_20240404_054128\n",
      "data_20240412_175016\n",
      "data_20240405_193102\n",
      "data_20240405_205858\n"
     ]
    }
   ],
   "source": [
    "for number in range(len(DV_filename)):\n",
    "    print(DV_filename[number])\n",
    "    last_turn=np.concatenate([parse_and_plot_2(DV_filename[number],DV_file_num[number])[3][:,-3],\n",
    "                            parse_and_plot_2(DV_filename[number],DV_file_num[number])[3][:,-2],\n",
    "                            parse_and_plot_2(DV_filename[number],DV_file_num[number])[3][:,-1]])\n",
    "\n",
    "    #fft_result = fft(last_turn)\n",
    "    fft_result = np.fft.fft(last_turn)\n",
    "    \n",
    "    # パワースペクトル（振幅）を計算\n",
    "    power_spectrum = np.abs(fft_result)\n",
    "    \n",
    "    # 周波数軸を生成\n",
    "    sampling_frequency = 1  # サンプリング周波数\n",
    "    frequency_axis = fftfreq(len(last_turn), d=1/sampling_frequency)\n",
    "    \n",
    "    # プロット\n",
    "    plt.figure(figsize=(8, 6))\n",
    "    plt.plot(frequency_axis, power_spectrum)\n",
    "    plt.xlabel('Frequency')\n",
    "    plt.ylabel('Amplitude')\n",
    "    plt.title('FFT Result')\n",
    "    plt.grid(True)\n",
    "    plt.xscale('log')\n",
    "    plt.savefig('/home/nomaru/work/ipac_analysis/DV/'+f'{DV_filename[number][5:]}'+f'_{DV_file_num[number]}_fft'+'.png',dpi=200)\n",
    "    plt.close()\n",
    "\n",
    "for number in range(len(UV_filename)):\n",
    "    print(UV_filename[number])\n",
    "    last_turn=np.concatenate([parse_and_plot_UV(UV_filename[number],UV_file_num[number])[3][:,-3],\n",
    "                            parse_and_plot_UV(UV_filename[number],UV_file_num[number])[3][:,-2],\n",
    "                            parse_and_plot_UV(UV_filename[number],UV_file_num[number])[3][:,-1]])\n",
    "\n",
    "    #fft_result = fft(last_turn)\n",
    "    fft_result = np.fft.fft(last_turn)\n",
    "    \n",
    "    # パワースペクトル（振幅）を計算\n",
    "    power_spectrum = np.abs(fft_result)\n",
    "    \n",
    "    # 周波数軸を生成\n",
    "    sampling_frequency = 1  # サンプリング周波数\n",
    "    frequency_axis = fftfreq(len(last_turn), d=1/sampling_frequency)\n",
    "    \n",
    "    # プロット\n",
    "    plt.figure(figsize=(8, 6))\n",
    "    plt.plot(frequency_axis, power_spectrum)\n",
    "    plt.xlabel('Frequency')\n",
    "    plt.ylabel('Amplitude')\n",
    "    plt.title('FFT Result')\n",
    "    plt.grid(True)\n",
    "    plt.xscale('log')\n",
    "    plt.savefig('/home/nomaru/work/ipac_analysis/UV/'+f'{UV_filename[number][5:]}'+f'_{UV_file_num[number]}_fft'+'.png',dpi=200)\n",
    "    plt.close()"
   ]
  },
  {
   "cell_type": "markdown",
   "id": "e5439f8e-52e2-48c2-8b92-326fc1b46271",
   "metadata": {},
   "source": [
    "# MA"
   ]
  },
  {
   "cell_type": "code",
   "execution_count": 696,
   "id": "8bc6230b-cc89-4ac2-a4d3-66eef8395757",
   "metadata": {},
   "outputs": [],
   "source": [
    "def parse_and_plot_MA_UV(filename,num):\n",
    "    ampFault, recordtime = datfile(filename+'.dat')\n",
    "    if recordtime==0:\n",
    "        return\n",
    "    if len(recordtime)==0:\n",
    "        return\n",
    "    #print(len(recordtime))\n",
    "    #print(f'Selected time : {recordtime[num]}')\n",
    "\n",
    "    def bunchindex(threshold,waveform):\n",
    "        start=12800\n",
    "        firstbunch=0\n",
    "        for i in range(1,8*5120):\n",
    "            if waveform[start+i-1]<waveform[start+i] and waveform[start+i]>waveform[start+i+1]:\n",
    "                if waveform[start+i]>threshold:\n",
    "                    firstbunch=start+i\n",
    "                    break\n",
    "        if firstbunch==0:\n",
    "            print(\"invalid data\")\n",
    "            return firstbunch, 0\n",
    "    \n",
    "        bunch_candidate=waveform[firstbunch:firstbunch+5120*8:8]\n",
    "        bunch_index=np.where(bunch_candidate>threshold)[0]\n",
    "    \n",
    "        return firstbunch, bunch_index\n",
    "\n",
    "    firstbunch, bunch_index=bunchindex(1700,ampFault[2][num])\n",
    "    if firstbunch==0:\n",
    "        print(f\"end process: UV{filename}_{num}\")\n",
    "        return\n",
    "\n",
    "    #print(f'Downstream Num of bunch : {len(bunch_index)}')\n",
    "    #print(f'Downstream First bunch index : {firstbunch}')\n",
    "\n",
    "    if firstbunch>140000:\n",
    "        return\n",
    "\n",
    "    start=12800\n",
    "    y_pos=[]\n",
    "    charge=[]\n",
    "    for j in bunch_index:\n",
    "        certain_bunch=[]\n",
    "        certain_bunch_charge=[]\n",
    "        for i in range(12):\n",
    "            sum=ampFault[2][num][firstbunch+j*8+5120*8*i]\n",
    "            delta=ampFault[3][num][firstbunch+j*8+5120*8*i]\n",
    "            yposition=delta/sum*16.58/5+1.6\n",
    "            certain_bunch.append(yposition)\n",
    "            certain_bunch_charge.append(sum)\n",
    "        y_pos.append(np.array(certain_bunch))\n",
    "        charge.append(np.array(certain_bunch_charge))\n",
    "    y_pos=np.array(y_pos)\n",
    "    charge=np.array(charge)\n",
    "\n",
    "    mean=np.mean(y_pos[:,0:2],axis=1)\n",
    "    y_pos=y_pos-mean[:,np.newaxis]\n",
    "    mean=np.mean(charge[:,0:2],axis=1)\n",
    "    charge=charge/mean[:,np.newaxis]\n",
    "    #print(y_pos[:,-3:])\n",
    "    #print(charge)\n",
    "    y_first_turn=np.concatenate(y_pos[:,3:5])\n",
    "    y_last_turn=np.concatenate(y_pos[:,-3:])\n",
    "    loss=1-np.min(np.concatenate(charge))\n",
    "    \n",
    "    #make x axis\n",
    "    bunch_index_12=[]\n",
    "    for i in range(12):\n",
    "        bunch_index_12.append(bunch_index+5120*i)\n",
    "\n",
    "    x_axis=np.concatenate(bunch_index_12)/5120+1\n",
    "        \n",
    "    split=np.hsplit(y_pos,y_pos.shape[1])\n",
    "    pos=np.concatenate(split).flatten()\n",
    "    data=pd.DataFrame({\"x_axis\":x_axis,\"UV\":pos})\n",
    "    data[\"MA\"]=data[\"UV\"].rolling(window=500).mean()\n",
    "    \n",
    "    fig, (ax1, ax2) = plt.subplots(2, 1, sharex=True,figsize=(23,8))\n",
    "    ax1.set_title(f'{recordtime[num]}')\n",
    "    ax1.scatter(data[\"x_axis\"],data[\"UV\"],color=\"tomato\",s=5)\n",
    "    ax1.plot(data[\"x_axis\"],data[\"MA\"],color='tab:green')\n",
    "    ax1.set_ylabel(\"Y position (mm)\")\n",
    "    ax1.set_ylim(-0.4,0.4)\n",
    "    ax1.grid()\n",
    "    ax1.text(0.03,0.05,'Upstream Vertical',transform=ax1.transAxes,ha='left',va='bottom',fontsize=20)\n",
    "\n",
    "    split=np.hsplit(charge,charge.shape[1])\n",
    "    ax2.scatter(x_axis,np.concatenate(split),color='royalblue',s=6)\n",
    "    ax2.set_xlabel(\"Turn\")\n",
    "    ax2.set_ylabel(\"Charge\")\n",
    "    ax2.set_ylim(0,1.2)\n",
    "    ax2.grid()\n",
    "    ax2.set_xticks([1,2,3,4,5,6,7,8,9,10,11,12,13],['0','0','1','2','3','4','5','6','7','8','9','10','abort'])\n",
    "    ax2.set_yticks([0,0.2,0.4,0.6,0.8,1])\n",
    "    ax2.set_xlim(3,13)\n",
    "    ax2.text(0.03,0.05,'Upstream Charge',transform=ax2.transAxes,ha='left',va='bottom',fontsize=20)\n",
    "    \n",
    "    plt.subplots_adjust(hspace=.1)\n",
    "    plt.savefig('/home/nomaru/work/ipac_analysis/UV/'+filename[5:]+f'_{num}'+'.png',dpi=200,bbox_inches=\"tight\",pad_inches=0.5)\n",
    "    plt.close()\n",
    "    print(\"succeed\")\n",
    "    \n",
    "    return np.std(y_last_turn)/np.std(y_first_turn), (np.max(y_last_turn)-np.min(y_last_turn))/(np.max(y_first_turn)-np.min(y_first_turn)), loss\n",
    "\n"
   ]
  },
  {
   "cell_type": "code",
   "execution_count": 697,
   "id": "ee85dc09-0943-4747-8c8c-8bc8f11982db",
   "metadata": {
    "jupyter": {
     "source_hidden": true
    }
   },
   "outputs": [],
   "source": [
    "def parse_and_plot_MA_DV(filename,num):\n",
    "    ampFault, recordtime = datfile(filename+'.dat')\n",
    "    if recordtime==0:\n",
    "        return\n",
    "    if len(recordtime)==0:\n",
    "        return\n",
    "    #print(len(recordtime))\n",
    "    #print(f'Selected time : {recordtime[num]}')\n",
    "\n",
    "    def bunchindex(threshold,waveform):\n",
    "        start=12800\n",
    "        firstbunch=0\n",
    "        for i in range(1,8*5120):\n",
    "            if waveform[start+i-1]<waveform[start+i] and waveform[start+i]>waveform[start+i+1]:\n",
    "                if waveform[start+i]>threshold:\n",
    "                    firstbunch=start+i\n",
    "                    break\n",
    "        if firstbunch==0:\n",
    "            print(\"invalid data\")\n",
    "            return firstbunch, 0\n",
    "    \n",
    "        bunch_candidate=waveform[firstbunch:firstbunch+5120*8:8]\n",
    "        bunch_index=np.where(bunch_candidate>threshold)[0]\n",
    "    \n",
    "        return firstbunch, bunch_index\n",
    "\n",
    "    firstbunch, bunch_index=bunchindex(1000,ampFault[0][num])\n",
    "    if firstbunch==0:\n",
    "        print(f\"end process: DV{filename}_{num}\")\n",
    "        return\n",
    "\n",
    "    #print(f'Downstream Num of bunch : {len(bunch_index)}')\n",
    "    #print(f'Downstream First bunch index : {firstbunch}')\n",
    "\n",
    "    if firstbunch>140000:\n",
    "        return\n",
    "\n",
    "    start=12800\n",
    "    y_pos=[]\n",
    "    charge=[]\n",
    "    for j in bunch_index:\n",
    "        certain_bunch=[]\n",
    "        certain_bunch_charge=[]\n",
    "        for i in range(12):\n",
    "            sum=ampFault[0][num][firstbunch+j*8+5120*8*i]\n",
    "            delta=ampFault[1][num][firstbunch+j*8+5120*8*i]\n",
    "            yposition=delta/sum*16.58/5+1.6\n",
    "            certain_bunch.append(yposition)\n",
    "            certain_bunch_charge.append(sum)\n",
    "        y_pos.append(np.array(certain_bunch))\n",
    "        charge.append(np.array(certain_bunch_charge))\n",
    "    y_pos=np.array(y_pos)\n",
    "    charge=np.array(charge)\n",
    "\n",
    "    mean=np.mean(y_pos[:,0:2],axis=1)\n",
    "    y_pos=y_pos-mean[:,np.newaxis]\n",
    "    mean=np.mean(charge[:,0:2],axis=1)\n",
    "    charge=charge/mean[:,np.newaxis]\n",
    "    #print(y_pos[:,-3:])\n",
    "    #print(charge)\n",
    "    y_first_turn=np.concatenate(y_pos[:,3:5])\n",
    "    y_last_turn=np.concatenate(y_pos[:,-3:])\n",
    "    loss=1-np.min(np.concatenate(charge))\n",
    "    \n",
    "    #make x axis\n",
    "    bunch_index_12=[]\n",
    "    for i in range(12):\n",
    "        bunch_index_12.append(bunch_index+5120*i)\n",
    "\n",
    "    x_axis=np.concatenate(bunch_index_12)/5120+1\n",
    "        \n",
    "    split=np.hsplit(y_pos,y_pos.shape[1])\n",
    "    pos=np.concatenate(split).flatten()\n",
    "    data=pd.DataFrame({\"x_axis\":x_axis,\"UV\":pos})\n",
    "    data[\"MA\"]=data[\"UV\"].rolling(window=500).mean()\n",
    "    \n",
    "    fig, (ax1, ax2) = plt.subplots(2, 1, sharex=True,figsize=(23,8))\n",
    "    ax1.set_title(f'{recordtime[num]}')\n",
    "    ax1.scatter(data[\"x_axis\"],data[\"UV\"],color=\"red\",s=5)\n",
    "    ax1.plot(data[\"x_axis\"],data[\"MA\"],color='tab:green')\n",
    "    ax1.set_ylabel(\"Y position (mm)\")\n",
    "    ax1.set_ylim(-0.4,0.4)\n",
    "    ax1.grid()\n",
    "    ax1.text(0.03,0.05,'Downstream Vertical',transform=ax1.transAxes,ha='left',va='bottom',fontsize=20)\n",
    "\n",
    "    split=np.hsplit(charge,charge.shape[1])\n",
    "    ax2.scatter(x_axis,np.concatenate(split),color='blue',s=6)\n",
    "    ax2.set_xlabel(\"Turn\")\n",
    "    ax2.set_ylabel(\"Charge\")\n",
    "    ax2.set_ylim(0,1.2)\n",
    "    ax2.grid()\n",
    "    ax2.set_xticks([1,2,3,4,5,6,7,8,9,10,11,12,13],['0','0','1','2','3','4','5','6','7','8','9','10','abort'])\n",
    "    ax2.set_yticks([0,0.2,0.4,0.6,0.8,1])\n",
    "    ax2.set_xlim(3,13)\n",
    "    ax2.text(0.03,0.05,'Downstream Charge',transform=ax2.transAxes,ha='left',va='bottom',fontsize=20)\n",
    "    \n",
    "    plt.subplots_adjust(hspace=.1)\n",
    "    plt.savefig('/home/nomaru/work/ipac_analysis/DV/'+filename[5:]+f'_{num}'+'.png',dpi=200,bbox_inches=\"tight\",pad_inches=0.5)\n",
    "    plt.close()\n",
    "    print('succeed')\n",
    "    \n",
    "    return np.std(y_last_turn)/np.std(y_first_turn), (np.max(y_last_turn)-np.min(y_last_turn))/(np.max(y_first_turn)-np.min(y_first_turn)), loss"
   ]
  },
  {
   "cell_type": "code",
   "execution_count": 698,
   "id": "028e0257-4bf1-4323-b446-2c751cd3c7ee",
   "metadata": {
    "scrolled": true
   },
   "outputs": [
    {
     "name": "stdout",
     "output_type": "stream",
     "text": [
      "0\n",
      "succeed\n",
      "1\n",
      "succeed\n",
      "2\n",
      "succeed\n",
      "3\n",
      "succeed\n",
      "4\n",
      "succeed\n",
      "5\n",
      "succeed\n",
      "6\n",
      "succeed\n",
      "7\n",
      "succeed\n",
      "8\n",
      "succeed\n",
      "9\n",
      "succeed\n",
      "10\n",
      "succeed\n",
      "11\n",
      "succeed\n",
      "12\n",
      "succeed\n",
      "13\n",
      "succeed\n",
      "14\n",
      "succeed\n",
      "15\n",
      "succeed\n",
      "16\n",
      "succeed\n",
      "17\n",
      "succeed\n",
      "18\n",
      "succeed\n",
      "19\n",
      "succeed\n",
      "20\n",
      "succeed\n",
      "21\n",
      "succeed\n",
      "22\n",
      "succeed\n",
      "23\n",
      "succeed\n",
      "24\n",
      "succeed\n",
      "25\n",
      "succeed\n",
      "26\n",
      "succeed\n",
      "27\n",
      "succeed\n",
      "28\n",
      "succeed\n",
      "29\n",
      "succeed\n",
      "0\n",
      "succeed\n",
      "1\n",
      "succeed\n",
      "2\n",
      "succeed\n",
      "3\n",
      "succeed\n",
      "4\n",
      "succeed\n",
      "5\n",
      "succeed\n",
      "6\n",
      "succeed\n",
      "7\n",
      "succeed\n",
      "8\n",
      "succeed\n",
      "9\n",
      "succeed\n",
      "10\n",
      "succeed\n",
      "11\n",
      "succeed\n",
      "12\n",
      "succeed\n",
      "13\n",
      "succeed\n",
      "14\n",
      "succeed\n",
      "15\n",
      "succeed\n",
      "16\n",
      "succeed\n",
      "17\n",
      "succeed\n",
      "18\n",
      "succeed\n",
      "19\n",
      "succeed\n",
      "20\n",
      "succeed\n",
      "21\n",
      "succeed\n",
      "22\n",
      "succeed\n",
      "23\n",
      "succeed\n",
      "24\n",
      "succeed\n",
      "25\n",
      "succeed\n",
      "26\n",
      "succeed\n",
      "27\n",
      "succeed\n",
      "28\n",
      "succeed\n",
      "29\n",
      "succeed\n",
      "30\n",
      "succeed\n",
      "31\n",
      "succeed\n",
      "32\n",
      "succeed\n",
      "33\n",
      "succeed\n",
      "34\n",
      "succeed\n",
      "35\n",
      "succeed\n",
      "36\n",
      "succeed\n",
      "37\n",
      "succeed\n",
      "38\n",
      "succeed\n",
      "39\n",
      "succeed\n",
      "40\n",
      "succeed\n",
      "41\n",
      "succeed\n",
      "42\n",
      "succeed\n",
      "43\n",
      "succeed\n",
      "44\n",
      "succeed\n",
      "45\n",
      "succeed\n",
      "46\n",
      "succeed\n",
      "47\n",
      "succeed\n",
      "48\n",
      "succeed\n",
      "49\n",
      "succeed\n",
      "50\n",
      "succeed\n",
      "51\n",
      "succeed\n",
      "52\n",
      "succeed\n",
      "53\n",
      "succeed\n",
      "54\n",
      "succeed\n",
      "55\n",
      "succeed\n",
      "56\n",
      "succeed\n",
      "57\n",
      "succeed\n",
      "58\n",
      "succeed\n",
      "59\n",
      "succeed\n",
      "60\n",
      "succeed\n",
      "61\n",
      "succeed\n",
      "62\n",
      "succeed\n",
      "63\n",
      "succeed\n",
      "64\n",
      "succeed\n"
     ]
    }
   ],
   "source": [
    "for i in range(len(UV_filename)):\n",
    "    print(i)\n",
    "    parse_and_plot_MA_UV(UV_filename[i],UV_file_num[i])\n",
    "\n",
    "for i in range(len(DV_filename)):\n",
    "    print(i)\n",
    "    parse_and_plot_MA_DV(DV_filename[i],DV_file_num[i])\n"
   ]
  },
  {
   "cell_type": "markdown",
   "id": "382818ac-5d82-4f92-acd4-fab1fa6c45af",
   "metadata": {},
   "source": [
    "# Correlation"
   ]
  },
  {
   "cell_type": "code",
   "execution_count": 820,
   "id": "d836e4b7-817b-4bcf-b2fd-d25e4ce5e917",
   "metadata": {
    "scrolled": true
   },
   "outputs": [
    {
     "name": "stdout",
     "output_type": "stream",
     "text": [
      "data_20240323_091420\n"
     ]
    },
    {
     "name": "stderr",
     "output_type": "stream",
     "text": [
      "/tmp/ipykernel_38036/2567333622.py:24: UserWarning: Glyph 8722 (\\N{MINUS SIGN}) missing from current font.\n",
      "  plt.savefig('/home/nomaru/work/ipac_analysis/DV/'+f'{DV_filename[number][5:]}'+f'_{DV_file_num[number]}_corr'+'.png',dpi=200)\n"
     ]
    },
    {
     "name": "stdout",
     "output_type": "stream",
     "text": [
      "data_20240405_182849\n"
     ]
    },
    {
     "name": "stderr",
     "output_type": "stream",
     "text": [
      "/tmp/ipykernel_38036/2567333622.py:24: UserWarning: Glyph 8722 (\\N{MINUS SIGN}) missing from current font.\n",
      "  plt.savefig('/home/nomaru/work/ipac_analysis/DV/'+f'{DV_filename[number][5:]}'+f'_{DV_file_num[number]}_corr'+'.png',dpi=200)\n"
     ]
    },
    {
     "name": "stdout",
     "output_type": "stream",
     "text": [
      "data_20240401_221706\n"
     ]
    },
    {
     "name": "stderr",
     "output_type": "stream",
     "text": [
      "/tmp/ipykernel_38036/2567333622.py:24: UserWarning: Glyph 8722 (\\N{MINUS SIGN}) missing from current font.\n",
      "  plt.savefig('/home/nomaru/work/ipac_analysis/DV/'+f'{DV_filename[number][5:]}'+f'_{DV_file_num[number]}_corr'+'.png',dpi=200)\n"
     ]
    },
    {
     "name": "stdout",
     "output_type": "stream",
     "text": [
      "data_20240413_005829\n"
     ]
    },
    {
     "name": "stderr",
     "output_type": "stream",
     "text": [
      "/tmp/ipykernel_38036/2567333622.py:24: UserWarning: Glyph 8722 (\\N{MINUS SIGN}) missing from current font.\n",
      "  plt.savefig('/home/nomaru/work/ipac_analysis/DV/'+f'{DV_filename[number][5:]}'+f'_{DV_file_num[number]}_corr'+'.png',dpi=200)\n"
     ]
    },
    {
     "name": "stdout",
     "output_type": "stream",
     "text": [
      "data_20240309_115540\n"
     ]
    },
    {
     "name": "stderr",
     "output_type": "stream",
     "text": [
      "/tmp/ipykernel_38036/2567333622.py:24: UserWarning: Glyph 8722 (\\N{MINUS SIGN}) missing from current font.\n",
      "  plt.savefig('/home/nomaru/work/ipac_analysis/DV/'+f'{DV_filename[number][5:]}'+f'_{DV_file_num[number]}_corr'+'.png',dpi=200)\n"
     ]
    },
    {
     "name": "stdout",
     "output_type": "stream",
     "text": [
      "data_20240327_190358\n"
     ]
    },
    {
     "name": "stderr",
     "output_type": "stream",
     "text": [
      "/tmp/ipykernel_38036/2567333622.py:24: UserWarning: Glyph 8722 (\\N{MINUS SIGN}) missing from current font.\n",
      "  plt.savefig('/home/nomaru/work/ipac_analysis/DV/'+f'{DV_filename[number][5:]}'+f'_{DV_file_num[number]}_corr'+'.png',dpi=200)\n"
     ]
    },
    {
     "name": "stdout",
     "output_type": "stream",
     "text": [
      "data_20240405_024853\n"
     ]
    },
    {
     "name": "stderr",
     "output_type": "stream",
     "text": [
      "/tmp/ipykernel_38036/2567333622.py:24: UserWarning: Glyph 8722 (\\N{MINUS SIGN}) missing from current font.\n",
      "  plt.savefig('/home/nomaru/work/ipac_analysis/DV/'+f'{DV_filename[number][5:]}'+f'_{DV_file_num[number]}_corr'+'.png',dpi=200)\n"
     ]
    },
    {
     "name": "stdout",
     "output_type": "stream",
     "text": [
      "data_20240322_200311\n"
     ]
    },
    {
     "name": "stderr",
     "output_type": "stream",
     "text": [
      "/tmp/ipykernel_38036/2567333622.py:24: UserWarning: Glyph 8722 (\\N{MINUS SIGN}) missing from current font.\n",
      "  plt.savefig('/home/nomaru/work/ipac_analysis/DV/'+f'{DV_filename[number][5:]}'+f'_{DV_file_num[number]}_corr'+'.png',dpi=200)\n"
     ]
    },
    {
     "name": "stdout",
     "output_type": "stream",
     "text": [
      "data_20240406_104928\n"
     ]
    },
    {
     "name": "stderr",
     "output_type": "stream",
     "text": [
      "/tmp/ipykernel_38036/2567333622.py:24: UserWarning: Glyph 8722 (\\N{MINUS SIGN}) missing from current font.\n",
      "  plt.savefig('/home/nomaru/work/ipac_analysis/DV/'+f'{DV_filename[number][5:]}'+f'_{DV_file_num[number]}_corr'+'.png',dpi=200)\n"
     ]
    },
    {
     "name": "stdout",
     "output_type": "stream",
     "text": [
      "data_20240402_054532\n"
     ]
    },
    {
     "name": "stderr",
     "output_type": "stream",
     "text": [
      "/tmp/ipykernel_38036/2567333622.py:24: UserWarning: Glyph 8722 (\\N{MINUS SIGN}) missing from current font.\n",
      "  plt.savefig('/home/nomaru/work/ipac_analysis/DV/'+f'{DV_filename[number][5:]}'+f'_{DV_file_num[number]}_corr'+'.png',dpi=200)\n"
     ]
    },
    {
     "name": "stdout",
     "output_type": "stream",
     "text": [
      "data_20240416_000609\n"
     ]
    },
    {
     "name": "stderr",
     "output_type": "stream",
     "text": [
      "/tmp/ipykernel_38036/2567333622.py:24: UserWarning: Glyph 8722 (\\N{MINUS SIGN}) missing from current font.\n",
      "  plt.savefig('/home/nomaru/work/ipac_analysis/DV/'+f'{DV_filename[number][5:]}'+f'_{DV_file_num[number]}_corr'+'.png',dpi=200)\n"
     ]
    },
    {
     "name": "stdout",
     "output_type": "stream",
     "text": [
      "data_20240331_160053\n"
     ]
    },
    {
     "name": "stderr",
     "output_type": "stream",
     "text": [
      "/tmp/ipykernel_38036/2567333622.py:24: UserWarning: Glyph 8722 (\\N{MINUS SIGN}) missing from current font.\n",
      "  plt.savefig('/home/nomaru/work/ipac_analysis/DV/'+f'{DV_filename[number][5:]}'+f'_{DV_file_num[number]}_corr'+'.png',dpi=200)\n",
      "/tmp/ipykernel_38036/2567333622.py:24: UserWarning: Glyph 8722 (\\N{MINUS SIGN}) missing from current font.\n",
      "  plt.savefig('/home/nomaru/work/ipac_analysis/DV/'+f'{DV_filename[number][5:]}'+f'_{DV_file_num[number]}_corr'+'.png',dpi=200)\n"
     ]
    },
    {
     "name": "stdout",
     "output_type": "stream",
     "text": [
      "data_20240307_191034\n",
      "data_20240330_010639\n"
     ]
    },
    {
     "name": "stderr",
     "output_type": "stream",
     "text": [
      "/tmp/ipykernel_38036/2567333622.py:24: UserWarning: Glyph 8722 (\\N{MINUS SIGN}) missing from current font.\n",
      "  plt.savefig('/home/nomaru/work/ipac_analysis/DV/'+f'{DV_filename[number][5:]}'+f'_{DV_file_num[number]}_corr'+'.png',dpi=200)\n"
     ]
    },
    {
     "name": "stdout",
     "output_type": "stream",
     "text": [
      "data_20240414_024721\n"
     ]
    },
    {
     "name": "stderr",
     "output_type": "stream",
     "text": [
      "/tmp/ipykernel_38036/2567333622.py:24: UserWarning: Glyph 8722 (\\N{MINUS SIGN}) missing from current font.\n",
      "  plt.savefig('/home/nomaru/work/ipac_analysis/DV/'+f'{DV_filename[number][5:]}'+f'_{DV_file_num[number]}_corr'+'.png',dpi=200)\n"
     ]
    },
    {
     "name": "stdout",
     "output_type": "stream",
     "text": [
      "data_20240412_201042\n"
     ]
    },
    {
     "name": "stderr",
     "output_type": "stream",
     "text": [
      "/tmp/ipykernel_38036/2567333622.py:24: UserWarning: Glyph 8722 (\\N{MINUS SIGN}) missing from current font.\n",
      "  plt.savefig('/home/nomaru/work/ipac_analysis/DV/'+f'{DV_filename[number][5:]}'+f'_{DV_file_num[number]}_corr'+'.png',dpi=200)\n"
     ]
    },
    {
     "name": "stdout",
     "output_type": "stream",
     "text": [
      "data_20240411_023343\n"
     ]
    },
    {
     "name": "stderr",
     "output_type": "stream",
     "text": [
      "/tmp/ipykernel_38036/2567333622.py:24: UserWarning: Glyph 8722 (\\N{MINUS SIGN}) missing from current font.\n",
      "  plt.savefig('/home/nomaru/work/ipac_analysis/DV/'+f'{DV_filename[number][5:]}'+f'_{DV_file_num[number]}_corr'+'.png',dpi=200)\n"
     ]
    },
    {
     "name": "stdout",
     "output_type": "stream",
     "text": [
      "data_20240328_052654\n"
     ]
    },
    {
     "name": "stderr",
     "output_type": "stream",
     "text": [
      "/tmp/ipykernel_38036/2567333622.py:24: UserWarning: Glyph 8722 (\\N{MINUS SIGN}) missing from current font.\n",
      "  plt.savefig('/home/nomaru/work/ipac_analysis/DV/'+f'{DV_filename[number][5:]}'+f'_{DV_file_num[number]}_corr'+'.png',dpi=200)\n"
     ]
    },
    {
     "name": "stdout",
     "output_type": "stream",
     "text": [
      "data_20240328_190230\n"
     ]
    },
    {
     "name": "stderr",
     "output_type": "stream",
     "text": [
      "/tmp/ipykernel_38036/2567333622.py:24: UserWarning: Glyph 8722 (\\N{MINUS SIGN}) missing from current font.\n",
      "  plt.savefig('/home/nomaru/work/ipac_analysis/DV/'+f'{DV_filename[number][5:]}'+f'_{DV_file_num[number]}_corr'+'.png',dpi=200)\n"
     ]
    },
    {
     "name": "stdout",
     "output_type": "stream",
     "text": [
      "data_20240409_041622\n"
     ]
    },
    {
     "name": "stderr",
     "output_type": "stream",
     "text": [
      "/tmp/ipykernel_38036/2567333622.py:24: UserWarning: Glyph 8722 (\\N{MINUS SIGN}) missing from current font.\n",
      "  plt.savefig('/home/nomaru/work/ipac_analysis/DV/'+f'{DV_filename[number][5:]}'+f'_{DV_file_num[number]}_corr'+'.png',dpi=200)\n"
     ]
    },
    {
     "name": "stdout",
     "output_type": "stream",
     "text": [
      "data_20240322_234317\n"
     ]
    },
    {
     "name": "stderr",
     "output_type": "stream",
     "text": [
      "/tmp/ipykernel_38036/2567333622.py:24: UserWarning: Glyph 8722 (\\N{MINUS SIGN}) missing from current font.\n",
      "  plt.savefig('/home/nomaru/work/ipac_analysis/DV/'+f'{DV_filename[number][5:]}'+f'_{DV_file_num[number]}_corr'+'.png',dpi=200)\n"
     ]
    },
    {
     "name": "stdout",
     "output_type": "stream",
     "text": [
      "data_20240411_183727\n"
     ]
    },
    {
     "name": "stderr",
     "output_type": "stream",
     "text": [
      "/tmp/ipykernel_38036/2567333622.py:24: UserWarning: Glyph 8722 (\\N{MINUS SIGN}) missing from current font.\n",
      "  plt.savefig('/home/nomaru/work/ipac_analysis/DV/'+f'{DV_filename[number][5:]}'+f'_{DV_file_num[number]}_corr'+'.png',dpi=200)\n"
     ]
    },
    {
     "name": "stdout",
     "output_type": "stream",
     "text": [
      "data_20240405_233122\n"
     ]
    },
    {
     "name": "stderr",
     "output_type": "stream",
     "text": [
      "/tmp/ipykernel_38036/2567333622.py:24: UserWarning: Glyph 8722 (\\N{MINUS SIGN}) missing from current font.\n",
      "  plt.savefig('/home/nomaru/work/ipac_analysis/DV/'+f'{DV_filename[number][5:]}'+f'_{DV_file_num[number]}_corr'+'.png',dpi=200)\n"
     ]
    },
    {
     "name": "stdout",
     "output_type": "stream",
     "text": [
      "data_20240323_171747\n"
     ]
    },
    {
     "name": "stderr",
     "output_type": "stream",
     "text": [
      "/tmp/ipykernel_38036/2567333622.py:24: UserWarning: Glyph 8722 (\\N{MINUS SIGN}) missing from current font.\n",
      "  plt.savefig('/home/nomaru/work/ipac_analysis/DV/'+f'{DV_filename[number][5:]}'+f'_{DV_file_num[number]}_corr'+'.png',dpi=200)\n"
     ]
    },
    {
     "name": "stdout",
     "output_type": "stream",
     "text": [
      "data_20240324_194847\n"
     ]
    },
    {
     "name": "stderr",
     "output_type": "stream",
     "text": [
      "/tmp/ipykernel_38036/2567333622.py:24: UserWarning: Glyph 8722 (\\N{MINUS SIGN}) missing from current font.\n",
      "  plt.savefig('/home/nomaru/work/ipac_analysis/DV/'+f'{DV_filename[number][5:]}'+f'_{DV_file_num[number]}_corr'+'.png',dpi=200)\n"
     ]
    },
    {
     "name": "stdout",
     "output_type": "stream",
     "text": [
      "data_20240322_033232\n"
     ]
    },
    {
     "name": "stderr",
     "output_type": "stream",
     "text": [
      "/tmp/ipykernel_38036/2567333622.py:24: UserWarning: Glyph 8722 (\\N{MINUS SIGN}) missing from current font.\n",
      "  plt.savefig('/home/nomaru/work/ipac_analysis/DV/'+f'{DV_filename[number][5:]}'+f'_{DV_file_num[number]}_corr'+'.png',dpi=200)\n"
     ]
    },
    {
     "name": "stdout",
     "output_type": "stream",
     "text": [
      "data_20240325_180554\n"
     ]
    },
    {
     "name": "stderr",
     "output_type": "stream",
     "text": [
      "/tmp/ipykernel_38036/2567333622.py:24: UserWarning: Glyph 8722 (\\N{MINUS SIGN}) missing from current font.\n",
      "  plt.savefig('/home/nomaru/work/ipac_analysis/DV/'+f'{DV_filename[number][5:]}'+f'_{DV_file_num[number]}_corr'+'.png',dpi=200)\n"
     ]
    },
    {
     "name": "stdout",
     "output_type": "stream",
     "text": [
      "data_20240411_231200\n"
     ]
    },
    {
     "name": "stderr",
     "output_type": "stream",
     "text": [
      "/tmp/ipykernel_38036/2567333622.py:24: UserWarning: Glyph 8722 (\\N{MINUS SIGN}) missing from current font.\n",
      "  plt.savefig('/home/nomaru/work/ipac_analysis/DV/'+f'{DV_filename[number][5:]}'+f'_{DV_file_num[number]}_corr'+'.png',dpi=200)\n"
     ]
    },
    {
     "name": "stdout",
     "output_type": "stream",
     "text": [
      "data_20240331_080708\n"
     ]
    },
    {
     "name": "stderr",
     "output_type": "stream",
     "text": [
      "/tmp/ipykernel_38036/2567333622.py:24: UserWarning: Glyph 8722 (\\N{MINUS SIGN}) missing from current font.\n",
      "  plt.savefig('/home/nomaru/work/ipac_analysis/DV/'+f'{DV_filename[number][5:]}'+f'_{DV_file_num[number]}_corr'+'.png',dpi=200)\n"
     ]
    },
    {
     "name": "stdout",
     "output_type": "stream",
     "text": [
      "data_20240323_070827\n"
     ]
    },
    {
     "name": "stderr",
     "output_type": "stream",
     "text": [
      "/tmp/ipykernel_38036/2567333622.py:24: UserWarning: Glyph 8722 (\\N{MINUS SIGN}) missing from current font.\n",
      "  plt.savefig('/home/nomaru/work/ipac_analysis/DV/'+f'{DV_filename[number][5:]}'+f'_{DV_file_num[number]}_corr'+'.png',dpi=200)\n"
     ]
    },
    {
     "name": "stdout",
     "output_type": "stream",
     "text": [
      "data_20240414_211104\n"
     ]
    },
    {
     "name": "stderr",
     "output_type": "stream",
     "text": [
      "/tmp/ipykernel_38036/2567333622.py:24: UserWarning: Glyph 8722 (\\N{MINUS SIGN}) missing from current font.\n",
      "  plt.savefig('/home/nomaru/work/ipac_analysis/DV/'+f'{DV_filename[number][5:]}'+f'_{DV_file_num[number]}_corr'+'.png',dpi=200)\n"
     ]
    },
    {
     "name": "stdout",
     "output_type": "stream",
     "text": [
      "data_20240412_215932\n"
     ]
    },
    {
     "name": "stderr",
     "output_type": "stream",
     "text": [
      "/tmp/ipykernel_38036/2567333622.py:24: UserWarning: Glyph 8722 (\\N{MINUS SIGN}) missing from current font.\n",
      "  plt.savefig('/home/nomaru/work/ipac_analysis/DV/'+f'{DV_filename[number][5:]}'+f'_{DV_file_num[number]}_corr'+'.png',dpi=200)\n"
     ]
    },
    {
     "name": "stdout",
     "output_type": "stream",
     "text": [
      "data_20240324_204715\n"
     ]
    },
    {
     "name": "stderr",
     "output_type": "stream",
     "text": [
      "/tmp/ipykernel_38036/2567333622.py:24: UserWarning: Glyph 8722 (\\N{MINUS SIGN}) missing from current font.\n",
      "  plt.savefig('/home/nomaru/work/ipac_analysis/DV/'+f'{DV_filename[number][5:]}'+f'_{DV_file_num[number]}_corr'+'.png',dpi=200)\n"
     ]
    },
    {
     "name": "stdout",
     "output_type": "stream",
     "text": [
      "data_20240321_221813\n"
     ]
    },
    {
     "name": "stderr",
     "output_type": "stream",
     "text": [
      "/tmp/ipykernel_38036/2567333622.py:24: UserWarning: Glyph 8722 (\\N{MINUS SIGN}) missing from current font.\n",
      "  plt.savefig('/home/nomaru/work/ipac_analysis/DV/'+f'{DV_filename[number][5:]}'+f'_{DV_file_num[number]}_corr'+'.png',dpi=200)\n"
     ]
    },
    {
     "name": "stdout",
     "output_type": "stream",
     "text": [
      "data_20240413_180833\n"
     ]
    },
    {
     "name": "stderr",
     "output_type": "stream",
     "text": [
      "/tmp/ipykernel_38036/2567333622.py:24: UserWarning: Glyph 8722 (\\N{MINUS SIGN}) missing from current font.\n",
      "  plt.savefig('/home/nomaru/work/ipac_analysis/DV/'+f'{DV_filename[number][5:]}'+f'_{DV_file_num[number]}_corr'+'.png',dpi=200)\n"
     ]
    },
    {
     "name": "stdout",
     "output_type": "stream",
     "text": [
      "data_20240412_190229\n"
     ]
    },
    {
     "name": "stderr",
     "output_type": "stream",
     "text": [
      "/tmp/ipykernel_38036/2567333622.py:24: UserWarning: Glyph 8722 (\\N{MINUS SIGN}) missing from current font.\n",
      "  plt.savefig('/home/nomaru/work/ipac_analysis/DV/'+f'{DV_filename[number][5:]}'+f'_{DV_file_num[number]}_corr'+'.png',dpi=200)\n"
     ]
    },
    {
     "name": "stdout",
     "output_type": "stream",
     "text": [
      "data_20240402_192213\n"
     ]
    },
    {
     "name": "stderr",
     "output_type": "stream",
     "text": [
      "/tmp/ipykernel_38036/2567333622.py:24: UserWarning: Glyph 8722 (\\N{MINUS SIGN}) missing from current font.\n",
      "  plt.savefig('/home/nomaru/work/ipac_analysis/DV/'+f'{DV_filename[number][5:]}'+f'_{DV_file_num[number]}_corr'+'.png',dpi=200)\n"
     ]
    },
    {
     "name": "stdout",
     "output_type": "stream",
     "text": [
      "data_20240330_153919\n"
     ]
    },
    {
     "name": "stderr",
     "output_type": "stream",
     "text": [
      "/tmp/ipykernel_38036/2567333622.py:24: UserWarning: Glyph 8722 (\\N{MINUS SIGN}) missing from current font.\n",
      "  plt.savefig('/home/nomaru/work/ipac_analysis/DV/'+f'{DV_filename[number][5:]}'+f'_{DV_file_num[number]}_corr'+'.png',dpi=200)\n"
     ]
    },
    {
     "name": "stdout",
     "output_type": "stream",
     "text": [
      "data_20240406_085328\n"
     ]
    },
    {
     "name": "stderr",
     "output_type": "stream",
     "text": [
      "/tmp/ipykernel_38036/2567333622.py:24: UserWarning: Glyph 8722 (\\N{MINUS SIGN}) missing from current font.\n",
      "  plt.savefig('/home/nomaru/work/ipac_analysis/DV/'+f'{DV_filename[number][5:]}'+f'_{DV_file_num[number]}_corr'+'.png',dpi=200)\n"
     ]
    },
    {
     "name": "stdout",
     "output_type": "stream",
     "text": [
      "data_20240414_075533\n"
     ]
    },
    {
     "name": "stderr",
     "output_type": "stream",
     "text": [
      "/tmp/ipykernel_38036/2567333622.py:24: UserWarning: Glyph 8722 (\\N{MINUS SIGN}) missing from current font.\n",
      "  plt.savefig('/home/nomaru/work/ipac_analysis/DV/'+f'{DV_filename[number][5:]}'+f'_{DV_file_num[number]}_corr'+'.png',dpi=200)\n"
     ]
    },
    {
     "name": "stdout",
     "output_type": "stream",
     "text": [
      "data_20240415_090346\n"
     ]
    },
    {
     "name": "stderr",
     "output_type": "stream",
     "text": [
      "/tmp/ipykernel_38036/2567333622.py:24: UserWarning: Glyph 8722 (\\N{MINUS SIGN}) missing from current font.\n",
      "  plt.savefig('/home/nomaru/work/ipac_analysis/DV/'+f'{DV_filename[number][5:]}'+f'_{DV_file_num[number]}_corr'+'.png',dpi=200)\n"
     ]
    },
    {
     "name": "stdout",
     "output_type": "stream",
     "text": [
      "data_20240405_112729\n"
     ]
    },
    {
     "name": "stderr",
     "output_type": "stream",
     "text": [
      "/tmp/ipykernel_38036/2567333622.py:24: UserWarning: Glyph 8722 (\\N{MINUS SIGN}) missing from current font.\n",
      "  plt.savefig('/home/nomaru/work/ipac_analysis/DV/'+f'{DV_filename[number][5:]}'+f'_{DV_file_num[number]}_corr'+'.png',dpi=200)\n"
     ]
    },
    {
     "name": "stdout",
     "output_type": "stream",
     "text": [
      "data_20240325_070032\n"
     ]
    },
    {
     "name": "stderr",
     "output_type": "stream",
     "text": [
      "/tmp/ipykernel_38036/2567333622.py:24: UserWarning: Glyph 8722 (\\N{MINUS SIGN}) missing from current font.\n",
      "  plt.savefig('/home/nomaru/work/ipac_analysis/DV/'+f'{DV_filename[number][5:]}'+f'_{DV_file_num[number]}_corr'+'.png',dpi=200)\n"
     ]
    },
    {
     "name": "stdout",
     "output_type": "stream",
     "text": [
      "data_20240322_220131\n"
     ]
    },
    {
     "name": "stderr",
     "output_type": "stream",
     "text": [
      "/tmp/ipykernel_38036/2567333622.py:24: UserWarning: Glyph 8722 (\\N{MINUS SIGN}) missing from current font.\n",
      "  plt.savefig('/home/nomaru/work/ipac_analysis/DV/'+f'{DV_filename[number][5:]}'+f'_{DV_file_num[number]}_corr'+'.png',dpi=200)\n"
     ]
    },
    {
     "name": "stdout",
     "output_type": "stream",
     "text": [
      "data_20240414_053323\n"
     ]
    },
    {
     "name": "stderr",
     "output_type": "stream",
     "text": [
      "/tmp/ipykernel_38036/2567333622.py:24: UserWarning: Glyph 8722 (\\N{MINUS SIGN}) missing from current font.\n",
      "  plt.savefig('/home/nomaru/work/ipac_analysis/DV/'+f'{DV_filename[number][5:]}'+f'_{DV_file_num[number]}_corr'+'.png',dpi=200)\n"
     ]
    },
    {
     "name": "stdout",
     "output_type": "stream",
     "text": [
      "data_20240326_214035\n"
     ]
    },
    {
     "name": "stderr",
     "output_type": "stream",
     "text": [
      "/tmp/ipykernel_38036/2567333622.py:24: UserWarning: Glyph 8722 (\\N{MINUS SIGN}) missing from current font.\n",
      "  plt.savefig('/home/nomaru/work/ipac_analysis/DV/'+f'{DV_filename[number][5:]}'+f'_{DV_file_num[number]}_corr'+'.png',dpi=200)\n"
     ]
    },
    {
     "name": "stdout",
     "output_type": "stream",
     "text": [
      "data_20240325_121601\n"
     ]
    },
    {
     "name": "stderr",
     "output_type": "stream",
     "text": [
      "/tmp/ipykernel_38036/2567333622.py:24: UserWarning: Glyph 8722 (\\N{MINUS SIGN}) missing from current font.\n",
      "  plt.savefig('/home/nomaru/work/ipac_analysis/DV/'+f'{DV_filename[number][5:]}'+f'_{DV_file_num[number]}_corr'+'.png',dpi=200)\n"
     ]
    },
    {
     "name": "stdout",
     "output_type": "stream",
     "text": [
      "data_20240406_220945\n"
     ]
    },
    {
     "name": "stderr",
     "output_type": "stream",
     "text": [
      "/tmp/ipykernel_38036/2567333622.py:24: UserWarning: Glyph 8722 (\\N{MINUS SIGN}) missing from current font.\n",
      "  plt.savefig('/home/nomaru/work/ipac_analysis/DV/'+f'{DV_filename[number][5:]}'+f'_{DV_file_num[number]}_corr'+'.png',dpi=200)\n"
     ]
    },
    {
     "name": "stdout",
     "output_type": "stream",
     "text": [
      "data_20240412_182846\n"
     ]
    },
    {
     "name": "stderr",
     "output_type": "stream",
     "text": [
      "/tmp/ipykernel_38036/2567333622.py:24: UserWarning: Glyph 8722 (\\N{MINUS SIGN}) missing from current font.\n",
      "  plt.savefig('/home/nomaru/work/ipac_analysis/DV/'+f'{DV_filename[number][5:]}'+f'_{DV_file_num[number]}_corr'+'.png',dpi=200)\n"
     ]
    },
    {
     "name": "stdout",
     "output_type": "stream",
     "text": [
      "data_20240401_072513\n"
     ]
    },
    {
     "name": "stderr",
     "output_type": "stream",
     "text": [
      "/tmp/ipykernel_38036/2567333622.py:24: UserWarning: Glyph 8722 (\\N{MINUS SIGN}) missing from current font.\n",
      "  plt.savefig('/home/nomaru/work/ipac_analysis/DV/'+f'{DV_filename[number][5:]}'+f'_{DV_file_num[number]}_corr'+'.png',dpi=200)\n"
     ]
    },
    {
     "name": "stdout",
     "output_type": "stream",
     "text": [
      "data_20240323_154009\n"
     ]
    },
    {
     "name": "stderr",
     "output_type": "stream",
     "text": [
      "/tmp/ipykernel_38036/2567333622.py:24: UserWarning: Glyph 8722 (\\N{MINUS SIGN}) missing from current font.\n",
      "  plt.savefig('/home/nomaru/work/ipac_analysis/DV/'+f'{DV_filename[number][5:]}'+f'_{DV_file_num[number]}_corr'+'.png',dpi=200)\n"
     ]
    },
    {
     "name": "stdout",
     "output_type": "stream",
     "text": [
      "data_20240414_180023\n"
     ]
    },
    {
     "name": "stderr",
     "output_type": "stream",
     "text": [
      "/tmp/ipykernel_38036/2567333622.py:24: UserWarning: Glyph 8722 (\\N{MINUS SIGN}) missing from current font.\n",
      "  plt.savefig('/home/nomaru/work/ipac_analysis/DV/'+f'{DV_filename[number][5:]}'+f'_{DV_file_num[number]}_corr'+'.png',dpi=200)\n"
     ]
    },
    {
     "name": "stdout",
     "output_type": "stream",
     "text": [
      "data_20240323_101637\n"
     ]
    },
    {
     "name": "stderr",
     "output_type": "stream",
     "text": [
      "/tmp/ipykernel_38036/2567333622.py:24: UserWarning: Glyph 8722 (\\N{MINUS SIGN}) missing from current font.\n",
      "  plt.savefig('/home/nomaru/work/ipac_analysis/DV/'+f'{DV_filename[number][5:]}'+f'_{DV_file_num[number]}_corr'+'.png',dpi=200)\n"
     ]
    },
    {
     "name": "stdout",
     "output_type": "stream",
     "text": [
      "data_20240406_064757\n"
     ]
    },
    {
     "name": "stderr",
     "output_type": "stream",
     "text": [
      "/tmp/ipykernel_38036/2567333622.py:24: UserWarning: Glyph 8722 (\\N{MINUS SIGN}) missing from current font.\n",
      "  plt.savefig('/home/nomaru/work/ipac_analysis/DV/'+f'{DV_filename[number][5:]}'+f'_{DV_file_num[number]}_corr'+'.png',dpi=200)\n"
     ]
    },
    {
     "name": "stdout",
     "output_type": "stream",
     "text": [
      "data_20240323_134831\n"
     ]
    },
    {
     "name": "stderr",
     "output_type": "stream",
     "text": [
      "/tmp/ipykernel_38036/2567333622.py:24: UserWarning: Glyph 8722 (\\N{MINUS SIGN}) missing from current font.\n",
      "  plt.savefig('/home/nomaru/work/ipac_analysis/DV/'+f'{DV_filename[number][5:]}'+f'_{DV_file_num[number]}_corr'+'.png',dpi=200)\n"
     ]
    },
    {
     "name": "stdout",
     "output_type": "stream",
     "text": [
      "data_20240325_140736\n"
     ]
    },
    {
     "name": "stderr",
     "output_type": "stream",
     "text": [
      "/tmp/ipykernel_38036/2567333622.py:24: UserWarning: Glyph 8722 (\\N{MINUS SIGN}) missing from current font.\n",
      "  plt.savefig('/home/nomaru/work/ipac_analysis/DV/'+f'{DV_filename[number][5:]}'+f'_{DV_file_num[number]}_corr'+'.png',dpi=200)\n"
     ]
    },
    {
     "name": "stdout",
     "output_type": "stream",
     "text": [
      "data_20240404_054128\n"
     ]
    },
    {
     "name": "stderr",
     "output_type": "stream",
     "text": [
      "/tmp/ipykernel_38036/2567333622.py:24: UserWarning: Glyph 8722 (\\N{MINUS SIGN}) missing from current font.\n",
      "  plt.savefig('/home/nomaru/work/ipac_analysis/DV/'+f'{DV_filename[number][5:]}'+f'_{DV_file_num[number]}_corr'+'.png',dpi=200)\n"
     ]
    },
    {
     "name": "stdout",
     "output_type": "stream",
     "text": [
      "data_20240412_175016\n"
     ]
    },
    {
     "name": "stderr",
     "output_type": "stream",
     "text": [
      "/tmp/ipykernel_38036/2567333622.py:24: UserWarning: Glyph 8722 (\\N{MINUS SIGN}) missing from current font.\n",
      "  plt.savefig('/home/nomaru/work/ipac_analysis/DV/'+f'{DV_filename[number][5:]}'+f'_{DV_file_num[number]}_corr'+'.png',dpi=200)\n"
     ]
    },
    {
     "name": "stdout",
     "output_type": "stream",
     "text": [
      "data_20240309_115540\n"
     ]
    },
    {
     "name": "stderr",
     "output_type": "stream",
     "text": [
      "/tmp/ipykernel_38036/2567333622.py:24: UserWarning: Glyph 8722 (\\N{MINUS SIGN}) missing from current font.\n",
      "  plt.savefig('/home/nomaru/work/ipac_analysis/DV/'+f'{DV_filename[number][5:]}'+f'_{DV_file_num[number]}_corr'+'.png',dpi=200)\n"
     ]
    },
    {
     "name": "stdout",
     "output_type": "stream",
     "text": [
      "data_20240324_070921\n"
     ]
    },
    {
     "name": "stderr",
     "output_type": "stream",
     "text": [
      "/tmp/ipykernel_38036/2567333622.py:24: UserWarning: Glyph 8722 (\\N{MINUS SIGN}) missing from current font.\n",
      "  plt.savefig('/home/nomaru/work/ipac_analysis/DV/'+f'{DV_filename[number][5:]}'+f'_{DV_file_num[number]}_corr'+'.png',dpi=200)\n"
     ]
    },
    {
     "name": "stdout",
     "output_type": "stream",
     "text": [
      "data_20240329_045412\n"
     ]
    },
    {
     "name": "stderr",
     "output_type": "stream",
     "text": [
      "/tmp/ipykernel_38036/2567333622.py:24: UserWarning: Glyph 8722 (\\N{MINUS SIGN}) missing from current font.\n",
      "  plt.savefig('/home/nomaru/work/ipac_analysis/DV/'+f'{DV_filename[number][5:]}'+f'_{DV_file_num[number]}_corr'+'.png',dpi=200)\n"
     ]
    },
    {
     "name": "stdout",
     "output_type": "stream",
     "text": [
      "data_20240325_003115\n"
     ]
    },
    {
     "name": "stderr",
     "output_type": "stream",
     "text": [
      "/tmp/ipykernel_38036/2567333622.py:24: UserWarning: Glyph 8722 (\\N{MINUS SIGN}) missing from current font.\n",
      "  plt.savefig('/home/nomaru/work/ipac_analysis/DV/'+f'{DV_filename[number][5:]}'+f'_{DV_file_num[number]}_corr'+'.png',dpi=200)\n"
     ]
    },
    {
     "name": "stdout",
     "output_type": "stream",
     "text": [
      "data_20240324_115319\n"
     ]
    },
    {
     "name": "stderr",
     "output_type": "stream",
     "text": [
      "/tmp/ipykernel_38036/2567333622.py:24: UserWarning: Glyph 8722 (\\N{MINUS SIGN}) missing from current font.\n",
      "  plt.savefig('/home/nomaru/work/ipac_analysis/DV/'+f'{DV_filename[number][5:]}'+f'_{DV_file_num[number]}_corr'+'.png',dpi=200)\n"
     ]
    },
    {
     "name": "stdout",
     "output_type": "stream",
     "text": [
      "data_20240405_193102\n"
     ]
    },
    {
     "name": "stderr",
     "output_type": "stream",
     "text": [
      "/tmp/ipykernel_38036/2567333622.py:24: UserWarning: Glyph 8722 (\\N{MINUS SIGN}) missing from current font.\n",
      "  plt.savefig('/home/nomaru/work/ipac_analysis/DV/'+f'{DV_filename[number][5:]}'+f'_{DV_file_num[number]}_corr'+'.png',dpi=200)\n"
     ]
    },
    {
     "name": "stdout",
     "output_type": "stream",
     "text": [
      "data_20240405_205858\n"
     ]
    },
    {
     "name": "stderr",
     "output_type": "stream",
     "text": [
      "/tmp/ipykernel_38036/2567333622.py:24: UserWarning: Glyph 8722 (\\N{MINUS SIGN}) missing from current font.\n",
      "  plt.savefig('/home/nomaru/work/ipac_analysis/DV/'+f'{DV_filename[number][5:]}'+f'_{DV_file_num[number]}_corr'+'.png',dpi=200)\n"
     ]
    },
    {
     "name": "stdout",
     "output_type": "stream",
     "text": [
      "data_20240405_182849\n"
     ]
    },
    {
     "ename": "AttributeError",
     "evalue": "PathCollection.set() got an unexpected keyword argument 'markersize'",
     "output_type": "error",
     "traceback": [
      "\u001b[0;31m---------------------------------------------------------------------------\u001b[0m",
      "\u001b[0;31mAttributeError\u001b[0m                            Traceback (most recent call last)",
      "Cell \u001b[0;32mIn[820], line 42\u001b[0m\n\u001b[1;32m     39\u001b[0m peaks_min, _ \u001b[38;5;241m=\u001b[39m find_peaks(\u001b[38;5;241m-\u001b[39m\u001b[38;5;241m1\u001b[39m\u001b[38;5;241m*\u001b[39mdata[\u001b[38;5;124m\"\u001b[39m\u001b[38;5;124mMA\u001b[39m\u001b[38;5;124m\"\u001b[39m], prominence\u001b[38;5;241m=\u001b[39m\u001b[38;5;241m0.01\u001b[39m) \u001b[38;5;66;03m# yを反転して極小値を見つけます\u001b[39;00m\n\u001b[1;32m     41\u001b[0m \u001b[38;5;66;03m# プロット\u001b[39;00m\n\u001b[0;32m---> 42\u001b[0m \u001b[43mplt\u001b[49m\u001b[38;5;241;43m.\u001b[39;49m\u001b[43mscatter\u001b[49m\u001b[43m(\u001b[49m\u001b[43mx\u001b[49m\u001b[43m[\u001b[49m\u001b[43mpeaks_max\u001b[49m\u001b[43m]\u001b[49m\u001b[43m,\u001b[49m\u001b[43m \u001b[49m\u001b[43mdata\u001b[49m\u001b[43m[\u001b[49m\u001b[38;5;124;43m\"\u001b[39;49m\u001b[38;5;124;43mMA\u001b[39;49m\u001b[38;5;124;43m\"\u001b[39;49m\u001b[43m]\u001b[49m\u001b[43m[\u001b[49m\u001b[43mpeaks_max\u001b[49m\u001b[43m]\u001b[49m\u001b[43m,\u001b[49m\u001b[43m \u001b[49m\u001b[43mlabel\u001b[49m\u001b[38;5;241;43m=\u001b[39;49m\u001b[38;5;124;43m'\u001b[39;49m\u001b[38;5;124;43mMax peaks\u001b[39;49m\u001b[38;5;124;43m'\u001b[39;49m\u001b[43m,\u001b[49m\u001b[43mmarkersize\u001b[49m\u001b[38;5;241;43m=\u001b[39;49m\u001b[38;5;241;43m10\u001b[39;49m\u001b[43m)\u001b[49m \u001b[38;5;66;03m# 極大値を赤でプロット\u001b[39;00m\n\u001b[1;32m     43\u001b[0m plt\u001b[38;5;241m.\u001b[39mscatter(x[peaks_min], data[\u001b[38;5;124m\"\u001b[39m\u001b[38;5;124mMA\u001b[39m\u001b[38;5;124m\"\u001b[39m][peaks_min], label\u001b[38;5;241m=\u001b[39m\u001b[38;5;124m'\u001b[39m\u001b[38;5;124mMin peaks\u001b[39m\u001b[38;5;124m'\u001b[39m,markersize\u001b[38;5;241m=\u001b[39m\u001b[38;5;241m10\u001b[39m) \u001b[38;5;66;03m# 極小値を緑でプロット\u001b[39;00m\n\u001b[1;32m     45\u001b[0m plt\u001b[38;5;241m.\u001b[39mscatter(x, y, label\u001b[38;5;241m=\u001b[39m\u001b[38;5;124m'\u001b[39m\u001b[38;5;124mData\u001b[39m\u001b[38;5;124m'\u001b[39m,s\u001b[38;5;241m=\u001b[39m\u001b[38;5;241m4\u001b[39m)\n",
      "File \u001b[0;32m~/anaconda3/envs/rogue_tag/lib/python3.9/site-packages/matplotlib/pyplot.py:3684\u001b[0m, in \u001b[0;36mscatter\u001b[0;34m(x, y, s, c, marker, cmap, norm, vmin, vmax, alpha, linewidths, edgecolors, plotnonfinite, data, **kwargs)\u001b[0m\n\u001b[1;32m   3665\u001b[0m \u001b[38;5;129m@_copy_docstring_and_deprecators\u001b[39m(Axes\u001b[38;5;241m.\u001b[39mscatter)\n\u001b[1;32m   3666\u001b[0m \u001b[38;5;28;01mdef\u001b[39;00m \u001b[38;5;21mscatter\u001b[39m(\n\u001b[1;32m   3667\u001b[0m     x: \u001b[38;5;28mfloat\u001b[39m \u001b[38;5;241m|\u001b[39m ArrayLike,\n\u001b[0;32m   (...)\u001b[0m\n\u001b[1;32m   3682\u001b[0m     \u001b[38;5;241m*\u001b[39m\u001b[38;5;241m*\u001b[39mkwargs,\n\u001b[1;32m   3683\u001b[0m ) \u001b[38;5;241m-\u001b[39m\u001b[38;5;241m>\u001b[39m PathCollection:\n\u001b[0;32m-> 3684\u001b[0m     __ret \u001b[38;5;241m=\u001b[39m \u001b[43mgca\u001b[49m\u001b[43m(\u001b[49m\u001b[43m)\u001b[49m\u001b[38;5;241;43m.\u001b[39;49m\u001b[43mscatter\u001b[49m\u001b[43m(\u001b[49m\n\u001b[1;32m   3685\u001b[0m \u001b[43m        \u001b[49m\u001b[43mx\u001b[49m\u001b[43m,\u001b[49m\n\u001b[1;32m   3686\u001b[0m \u001b[43m        \u001b[49m\u001b[43my\u001b[49m\u001b[43m,\u001b[49m\n\u001b[1;32m   3687\u001b[0m \u001b[43m        \u001b[49m\u001b[43ms\u001b[49m\u001b[38;5;241;43m=\u001b[39;49m\u001b[43ms\u001b[49m\u001b[43m,\u001b[49m\n\u001b[1;32m   3688\u001b[0m \u001b[43m        \u001b[49m\u001b[43mc\u001b[49m\u001b[38;5;241;43m=\u001b[39;49m\u001b[43mc\u001b[49m\u001b[43m,\u001b[49m\n\u001b[1;32m   3689\u001b[0m \u001b[43m        \u001b[49m\u001b[43mmarker\u001b[49m\u001b[38;5;241;43m=\u001b[39;49m\u001b[43mmarker\u001b[49m\u001b[43m,\u001b[49m\n\u001b[1;32m   3690\u001b[0m \u001b[43m        \u001b[49m\u001b[43mcmap\u001b[49m\u001b[38;5;241;43m=\u001b[39;49m\u001b[43mcmap\u001b[49m\u001b[43m,\u001b[49m\n\u001b[1;32m   3691\u001b[0m \u001b[43m        \u001b[49m\u001b[43mnorm\u001b[49m\u001b[38;5;241;43m=\u001b[39;49m\u001b[43mnorm\u001b[49m\u001b[43m,\u001b[49m\n\u001b[1;32m   3692\u001b[0m \u001b[43m        \u001b[49m\u001b[43mvmin\u001b[49m\u001b[38;5;241;43m=\u001b[39;49m\u001b[43mvmin\u001b[49m\u001b[43m,\u001b[49m\n\u001b[1;32m   3693\u001b[0m \u001b[43m        \u001b[49m\u001b[43mvmax\u001b[49m\u001b[38;5;241;43m=\u001b[39;49m\u001b[43mvmax\u001b[49m\u001b[43m,\u001b[49m\n\u001b[1;32m   3694\u001b[0m \u001b[43m        \u001b[49m\u001b[43malpha\u001b[49m\u001b[38;5;241;43m=\u001b[39;49m\u001b[43malpha\u001b[49m\u001b[43m,\u001b[49m\n\u001b[1;32m   3695\u001b[0m \u001b[43m        \u001b[49m\u001b[43mlinewidths\u001b[49m\u001b[38;5;241;43m=\u001b[39;49m\u001b[43mlinewidths\u001b[49m\u001b[43m,\u001b[49m\n\u001b[1;32m   3696\u001b[0m \u001b[43m        \u001b[49m\u001b[43medgecolors\u001b[49m\u001b[38;5;241;43m=\u001b[39;49m\u001b[43medgecolors\u001b[49m\u001b[43m,\u001b[49m\n\u001b[1;32m   3697\u001b[0m \u001b[43m        \u001b[49m\u001b[43mplotnonfinite\u001b[49m\u001b[38;5;241;43m=\u001b[39;49m\u001b[43mplotnonfinite\u001b[49m\u001b[43m,\u001b[49m\n\u001b[1;32m   3698\u001b[0m \u001b[43m        \u001b[49m\u001b[38;5;241;43m*\u001b[39;49m\u001b[38;5;241;43m*\u001b[39;49m\u001b[43m(\u001b[49m\u001b[43m{\u001b[49m\u001b[38;5;124;43m\"\u001b[39;49m\u001b[38;5;124;43mdata\u001b[39;49m\u001b[38;5;124;43m\"\u001b[39;49m\u001b[43m:\u001b[49m\u001b[43m \u001b[49m\u001b[43mdata\u001b[49m\u001b[43m}\u001b[49m\u001b[43m \u001b[49m\u001b[38;5;28;43;01mif\u001b[39;49;00m\u001b[43m \u001b[49m\u001b[43mdata\u001b[49m\u001b[43m \u001b[49m\u001b[38;5;129;43;01mis\u001b[39;49;00m\u001b[43m \u001b[49m\u001b[38;5;129;43;01mnot\u001b[39;49;00m\u001b[43m \u001b[49m\u001b[38;5;28;43;01mNone\u001b[39;49;00m\u001b[43m \u001b[49m\u001b[38;5;28;43;01melse\u001b[39;49;00m\u001b[43m \u001b[49m\u001b[43m{\u001b[49m\u001b[43m}\u001b[49m\u001b[43m)\u001b[49m\u001b[43m,\u001b[49m\n\u001b[1;32m   3699\u001b[0m \u001b[43m        \u001b[49m\u001b[38;5;241;43m*\u001b[39;49m\u001b[38;5;241;43m*\u001b[39;49m\u001b[43mkwargs\u001b[49m\u001b[43m,\u001b[49m\n\u001b[1;32m   3700\u001b[0m \u001b[43m    \u001b[49m\u001b[43m)\u001b[49m\n\u001b[1;32m   3701\u001b[0m     sci(__ret)\n\u001b[1;32m   3702\u001b[0m     \u001b[38;5;28;01mreturn\u001b[39;00m __ret\n",
      "File \u001b[0;32m~/anaconda3/envs/rogue_tag/lib/python3.9/site-packages/matplotlib/__init__.py:1465\u001b[0m, in \u001b[0;36m_preprocess_data.<locals>.inner\u001b[0;34m(ax, data, *args, **kwargs)\u001b[0m\n\u001b[1;32m   1462\u001b[0m \u001b[38;5;129m@functools\u001b[39m\u001b[38;5;241m.\u001b[39mwraps(func)\n\u001b[1;32m   1463\u001b[0m \u001b[38;5;28;01mdef\u001b[39;00m \u001b[38;5;21minner\u001b[39m(ax, \u001b[38;5;241m*\u001b[39margs, data\u001b[38;5;241m=\u001b[39m\u001b[38;5;28;01mNone\u001b[39;00m, \u001b[38;5;241m*\u001b[39m\u001b[38;5;241m*\u001b[39mkwargs):\n\u001b[1;32m   1464\u001b[0m     \u001b[38;5;28;01mif\u001b[39;00m data \u001b[38;5;129;01mis\u001b[39;00m \u001b[38;5;28;01mNone\u001b[39;00m:\n\u001b[0;32m-> 1465\u001b[0m         \u001b[38;5;28;01mreturn\u001b[39;00m \u001b[43mfunc\u001b[49m\u001b[43m(\u001b[49m\u001b[43max\u001b[49m\u001b[43m,\u001b[49m\u001b[43m \u001b[49m\u001b[38;5;241;43m*\u001b[39;49m\u001b[38;5;28;43mmap\u001b[39;49m\u001b[43m(\u001b[49m\u001b[43msanitize_sequence\u001b[49m\u001b[43m,\u001b[49m\u001b[43m \u001b[49m\u001b[43margs\u001b[49m\u001b[43m)\u001b[49m\u001b[43m,\u001b[49m\u001b[43m \u001b[49m\u001b[38;5;241;43m*\u001b[39;49m\u001b[38;5;241;43m*\u001b[39;49m\u001b[43mkwargs\u001b[49m\u001b[43m)\u001b[49m\n\u001b[1;32m   1467\u001b[0m     bound \u001b[38;5;241m=\u001b[39m new_sig\u001b[38;5;241m.\u001b[39mbind(ax, \u001b[38;5;241m*\u001b[39margs, \u001b[38;5;241m*\u001b[39m\u001b[38;5;241m*\u001b[39mkwargs)\n\u001b[1;32m   1468\u001b[0m     auto_label \u001b[38;5;241m=\u001b[39m (bound\u001b[38;5;241m.\u001b[39marguments\u001b[38;5;241m.\u001b[39mget(label_namer)\n\u001b[1;32m   1469\u001b[0m                   \u001b[38;5;129;01mor\u001b[39;00m bound\u001b[38;5;241m.\u001b[39mkwargs\u001b[38;5;241m.\u001b[39mget(label_namer))\n",
      "File \u001b[0;32m~/anaconda3/envs/rogue_tag/lib/python3.9/site-packages/matplotlib/axes/_axes.py:4766\u001b[0m, in \u001b[0;36mAxes.scatter\u001b[0;34m(self, x, y, s, c, marker, cmap, norm, vmin, vmax, alpha, linewidths, edgecolors, plotnonfinite, **kwargs)\u001b[0m\n\u001b[1;32m   4762\u001b[0m         keys_str \u001b[38;5;241m=\u001b[39m \u001b[38;5;124m\"\u001b[39m\u001b[38;5;124m, \u001b[39m\u001b[38;5;124m\"\u001b[39m\u001b[38;5;241m.\u001b[39mjoin(\u001b[38;5;124mf\u001b[39m\u001b[38;5;124m\"\u001b[39m\u001b[38;5;124m'\u001b[39m\u001b[38;5;132;01m{\u001b[39;00mk\u001b[38;5;132;01m}\u001b[39;00m\u001b[38;5;124m'\u001b[39m\u001b[38;5;124m\"\u001b[39m \u001b[38;5;28;01mfor\u001b[39;00m k \u001b[38;5;129;01min\u001b[39;00m extra_keys)\n\u001b[1;32m   4763\u001b[0m         _api\u001b[38;5;241m.\u001b[39mwarn_external(\n\u001b[1;32m   4764\u001b[0m             \u001b[38;5;124m\"\u001b[39m\u001b[38;5;124mNo data for colormapping provided via \u001b[39m\u001b[38;5;124m'\u001b[39m\u001b[38;5;124mc\u001b[39m\u001b[38;5;124m'\u001b[39m\u001b[38;5;124m. \u001b[39m\u001b[38;5;124m\"\u001b[39m\n\u001b[1;32m   4765\u001b[0m             \u001b[38;5;124mf\u001b[39m\u001b[38;5;124m\"\u001b[39m\u001b[38;5;124mParameters \u001b[39m\u001b[38;5;132;01m{\u001b[39;00mkeys_str\u001b[38;5;132;01m}\u001b[39;00m\u001b[38;5;124m will be ignored\u001b[39m\u001b[38;5;124m\"\u001b[39m)\n\u001b[0;32m-> 4766\u001b[0m \u001b[43mcollection\u001b[49m\u001b[38;5;241;43m.\u001b[39;49m\u001b[43m_internal_update\u001b[49m\u001b[43m(\u001b[49m\u001b[43mkwargs\u001b[49m\u001b[43m)\u001b[49m\n\u001b[1;32m   4768\u001b[0m \u001b[38;5;66;03m# Classic mode only:\u001b[39;00m\n\u001b[1;32m   4769\u001b[0m \u001b[38;5;66;03m# ensure there are margins to allow for the\u001b[39;00m\n\u001b[1;32m   4770\u001b[0m \u001b[38;5;66;03m# finite size of the symbols.  In v2.x, margins\u001b[39;00m\n\u001b[1;32m   4771\u001b[0m \u001b[38;5;66;03m# are present by default, so we disable this\u001b[39;00m\n\u001b[1;32m   4772\u001b[0m \u001b[38;5;66;03m# scatter-specific override.\u001b[39;00m\n\u001b[1;32m   4773\u001b[0m \u001b[38;5;28;01mif\u001b[39;00m mpl\u001b[38;5;241m.\u001b[39mrcParams[\u001b[38;5;124m'\u001b[39m\u001b[38;5;124m_internal.classic_mode\u001b[39m\u001b[38;5;124m'\u001b[39m]:\n",
      "File \u001b[0;32m~/anaconda3/envs/rogue_tag/lib/python3.9/site-packages/matplotlib/artist.py:1219\u001b[0m, in \u001b[0;36mArtist._internal_update\u001b[0;34m(self, kwargs)\u001b[0m\n\u001b[1;32m   1212\u001b[0m \u001b[38;5;28;01mdef\u001b[39;00m \u001b[38;5;21m_internal_update\u001b[39m(\u001b[38;5;28mself\u001b[39m, kwargs):\n\u001b[1;32m   1213\u001b[0m \u001b[38;5;250m    \u001b[39m\u001b[38;5;124;03m\"\"\"\u001b[39;00m\n\u001b[1;32m   1214\u001b[0m \u001b[38;5;124;03m    Update artist properties without prenormalizing them, but generating\u001b[39;00m\n\u001b[1;32m   1215\u001b[0m \u001b[38;5;124;03m    errors as if calling `set`.\u001b[39;00m\n\u001b[1;32m   1216\u001b[0m \n\u001b[1;32m   1217\u001b[0m \u001b[38;5;124;03m    The lack of prenormalization is to maintain backcompatibility.\u001b[39;00m\n\u001b[1;32m   1218\u001b[0m \u001b[38;5;124;03m    \"\"\"\u001b[39;00m\n\u001b[0;32m-> 1219\u001b[0m     \u001b[38;5;28;01mreturn\u001b[39;00m \u001b[38;5;28;43mself\u001b[39;49m\u001b[38;5;241;43m.\u001b[39;49m\u001b[43m_update_props\u001b[49m\u001b[43m(\u001b[49m\n\u001b[1;32m   1220\u001b[0m \u001b[43m        \u001b[49m\u001b[43mkwargs\u001b[49m\u001b[43m,\u001b[49m\u001b[43m \u001b[49m\u001b[38;5;124;43m\"\u001b[39;49m\u001b[38;5;132;43;01m{cls.__name__}\u001b[39;49;00m\u001b[38;5;124;43m.set() got an unexpected keyword argument \u001b[39;49m\u001b[38;5;124;43m\"\u001b[39;49m\n\u001b[1;32m   1221\u001b[0m \u001b[43m        \u001b[49m\u001b[38;5;124;43m\"\u001b[39;49m\u001b[38;5;132;43;01m{prop_name!r}\u001b[39;49;00m\u001b[38;5;124;43m\"\u001b[39;49m\u001b[43m)\u001b[49m\n",
      "File \u001b[0;32m~/anaconda3/envs/rogue_tag/lib/python3.9/site-packages/matplotlib/artist.py:1193\u001b[0m, in \u001b[0;36mArtist._update_props\u001b[0;34m(self, props, errfmt)\u001b[0m\n\u001b[1;32m   1191\u001b[0m             func \u001b[38;5;241m=\u001b[39m \u001b[38;5;28mgetattr\u001b[39m(\u001b[38;5;28mself\u001b[39m, \u001b[38;5;124mf\u001b[39m\u001b[38;5;124m\"\u001b[39m\u001b[38;5;124mset_\u001b[39m\u001b[38;5;132;01m{\u001b[39;00mk\u001b[38;5;132;01m}\u001b[39;00m\u001b[38;5;124m\"\u001b[39m, \u001b[38;5;28;01mNone\u001b[39;00m)\n\u001b[1;32m   1192\u001b[0m             \u001b[38;5;28;01mif\u001b[39;00m \u001b[38;5;129;01mnot\u001b[39;00m \u001b[38;5;28mcallable\u001b[39m(func):\n\u001b[0;32m-> 1193\u001b[0m                 \u001b[38;5;28;01mraise\u001b[39;00m \u001b[38;5;167;01mAttributeError\u001b[39;00m(\n\u001b[1;32m   1194\u001b[0m                     errfmt\u001b[38;5;241m.\u001b[39mformat(\u001b[38;5;28mcls\u001b[39m\u001b[38;5;241m=\u001b[39m\u001b[38;5;28mtype\u001b[39m(\u001b[38;5;28mself\u001b[39m), prop_name\u001b[38;5;241m=\u001b[39mk))\n\u001b[1;32m   1195\u001b[0m             ret\u001b[38;5;241m.\u001b[39mappend(func(v))\n\u001b[1;32m   1196\u001b[0m \u001b[38;5;28;01mif\u001b[39;00m ret:\n",
      "\u001b[0;31mAttributeError\u001b[0m: PathCollection.set() got an unexpected keyword argument 'markersize'"
     ]
    },
    {
     "name": "stderr",
     "output_type": "stream",
     "text": [
      "/home/nomaru/anaconda3/envs/rogue_tag/lib/python3.9/site-packages/IPython/core/events.py:82: UserWarning: Glyph 8722 (\\N{MINUS SIGN}) missing from current font.\n",
      "  func(*args, **kwargs)\n",
      "/home/nomaru/anaconda3/envs/rogue_tag/lib/python3.9/site-packages/IPython/core/pylabtools.py:152: UserWarning: Glyph 8722 (\\N{MINUS SIGN}) missing from current font.\n",
      "  fig.canvas.print_figure(bytes_io, **kw)\n"
     ]
    },
    {
     "data": {
      "image/png": "[encoded data removed]",
      "text/plain": [
       "<Figure size 640x480 with 1 Axes>"
      ]
     },
     "metadata": {},
     "output_type": "display_data"
    }
   ],
   "source": [
    "sns.set()\n",
    "for number in range(len(DV_filename)):\n",
    "    print(DV_filename[number])\n",
    "    last_turn=np.concatenate([parse_and_plot_2(DV_filename[number],DV_file_num[number])[3][:,-3],\n",
    "                            parse_and_plot_2(DV_filename[number],DV_file_num[number])[3][:,-2],\n",
    "                            parse_and_plot_2(DV_filename[number],DV_file_num[number])[3][:,-1]])\n",
    "\n",
    "    x,y,_,__=plt.acorr(last_turn,maxlags=len(last_turn)-1)\n",
    "\n",
    "    data=pd.DataFrame({\"x\":x,\"y\":y})\n",
    "    data[\"MA\"]=data[\"y\"].rolling(window=200).mean()\n",
    "\n",
    "    # 極大値と極小値を見つける\n",
    "    peaks_max, _ = find_peaks(data[\"MA\"], prominence=0.01)  # prominenceはピークの高さのしきい値\n",
    "    peaks_min, _ = find_peaks(-1*data[\"MA\"], prominence=0.01) # yを反転して極小値を見つけます\n",
    "\n",
    "    # プロット\n",
    "    plt.plot(x[peaks_max], data[\"MA\"][peaks_max] ,'ro', label='Max peaks',markersize=10) # 極大値を赤でプロット\n",
    "    plt.plot(x[peaks_min], data[\"MA\"][peaks_min],'go', label='Min peaks',markersize=10) # 極小値を緑でプロット\n",
    "\n",
    "    plt.scatter(x, y, label='Data',s=4)\n",
    "    plt.plot(x, data['MA'], color='red')\n",
    "    plt.legend()\n",
    "    plt.savefig('/home/nomaru/work/ipac_analysis/DV/'+f'{DV_filename[number][5:]}'+f'_{DV_file_num[number]}_corr'+'.png',dpi=200)\n",
    "    plt.close()\n",
    "\n",
    "for number in range(len(UV_filename)):\n",
    "    print(UV_filename[number])\n",
    "    last_turn=np.concatenate([parse_and_plot_UV(UV_filename[number],UV_file_num[number])[3][:,-3],\n",
    "                            parse_and_plot_UV(UV_filename[number],UV_file_num[number])[3][:,-2],\n",
    "                            parse_and_plot_UV(UV_filename[number],UV_file_num[number])[3][:,-1]])\n",
    "\n",
    "    x,y,_,__=plt.acorr(last_turn,maxlags=len(last_turn)-1)\n",
    "    data=pd.DataFrame({\"x\":x,\"y\":y})\n",
    "    data[\"MA\"]=data[\"y\"].rolling(window=200).mean()\n",
    "\n",
    "    # 極大値と極小値を見つける\n",
    "    peaks_max, _ = find_peaks(data[\"MA\"], prominence=0.01)  # prominenceはピークの高さのしきい値\n",
    "    peaks_min, _ = find_peaks(-1*data[\"MA\"], prominence=0.01) # yを反転して極小値を見つけます\n",
    "\n",
    "    # プロット\n",
    "    plt.scatter(x[peaks_max], data[\"MA\"][peaks_max], label='Max peaks',markersize=10) # 極大値を赤でプロット\n",
    "    plt.scatter(x[peaks_min], data[\"MA\"][peaks_min], label='Min peaks',markersize=10) # 極小値を緑でプロット\n",
    "    \n",
    "    plt.scatter(x, y, label='Data',s=4)\n",
    "    plt.plot(x, data['MA'], color='red')\n",
    "    plt.legend()\n",
    "    plt.savefig('/home/nomaru/work/ipac_analysis/UV/'+f'{UV_filename[number][5:]}'+f'_{UV_file_num[number]}_corr'+'.png',dpi=200)\n",
    "    plt.close()"
   ]
  },
  {
   "cell_type": "code",
   "execution_count": 815,
   "id": "fe0507bb-4e65-4f4b-aa06-c1d68926df49",
   "metadata": {},
   "outputs": [
    {
     "name": "stderr",
     "output_type": "stream",
     "text": [
      "/home/nomaru/anaconda3/envs/rogue_tag/lib/python3.9/site-packages/IPython/core/pylabtools.py:152: UserWarning: Glyph 8722 (\\N{MINUS SIGN}) missing from current font.\n",
      "  fig.canvas.print_figure(bytes_io, **kw)\n"
     ]
    },
    {
     "data": {
      "image/png": "[encoded data removed]",
      "text/plain": [
       "<Figure size 640x480 with 1 Axes>"
      ]
     },
     "metadata": {},
     "output_type": "display_data"
    }
   ],
   "source": [
    "from scipy.signal import find_peaks\n",
    "number=1\n",
    "last_turn=np.concatenate([parse_and_plot_2(DV_filename[number],DV_file_num[number])[3][:,-3],\n",
    "                            parse_and_plot_2(DV_filename[number],DV_file_num[number])[3][:,-2],\n",
    "                            parse_and_plot_2(DV_filename[number],DV_file_num[number])[3][:,-1]])\n",
    "\n",
    "x,y,_,__=plt.acorr(last_turn,maxlags=len(last_turn)-1)\n",
    "data=pd.DataFrame({\"x\":x,\"y\":y})\n",
    "data[\"MA\"]=data[\"y\"].rolling(window=200).mean()\n",
    "\n",
    "# 極大値と極小値を見つける\n",
    "peaks_max, _ = find_peaks(data[\"MA\"], prominence=.1)  # prominenceはピークの高さのしきい値\n",
    "peaks_min, _ = find_peaks(-1*data[\"MA\"], prominence=.1) # yを反転して極小値を見つけます\n",
    "\n",
    "# プロット\n",
    "plt.plot(x[peaks_max], data[\"MA\"][peaks_max] ,'ro', label='Max peaks') # 極大値を赤でプロット\n",
    "plt.plot(x[peaks_min], data[\"MA\"][peaks_min],'go', label='Min peaks') # 極小値を緑でプロット\n",
    "\n",
    "#plt.scatter(x, y, label='Data')\n",
    "plt.plot(x, data['MA'], color='red')\n",
    "plt.legend()\n",
    "\n",
    "\n",
    "plt.show()"
   ]
  },
  {
   "cell_type": "code",
   "execution_count": null,
   "id": "e7cd427b-e83e-4a20-bd99-fd8499283888",
   "metadata": {},
   "outputs": [],
   "source": []
  }
 ],
 "metadata": {
  "kernelspec": {
   "display_name": "Python 3 (ipykernel)",
   "language": "python",
   "name": "python3"
  },
  "language_info": {
   "codemirror_mode": {
    "name": "ipython",
    "version": 3
   },
   "file_extension": ".py",
   "mimetype": "text/x-python",
   "name": "python",
   "nbconvert_exporter": "python",
   "pygments_lexer": "ipython3",
   "version": "3.9.18"
  }
 },
 "nbformat": 4,
 "nbformat_minor": 5
}
